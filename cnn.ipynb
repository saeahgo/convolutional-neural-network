{
 "cells": [
  {
   "cell_type": "code",
   "execution_count": 1,
   "id": "c7a3d860",
   "metadata": {},
   "outputs": [
    {
     "name": "stdout",
     "output_type": "stream",
     "text": [
      "C:\\Users\\Saeah Go\\Desktop\\CS540 Deep Learning\n"
     ]
    }
   ],
   "source": [
    "import os\n",
    "print(os.getcwd())"
   ]
  },
  {
   "cell_type": "markdown",
   "id": "a80c3ec5",
   "metadata": {},
   "source": [
    "# Q1 a"
   ]
  },
  {
   "cell_type": "code",
   "execution_count": 2,
   "id": "0836103e",
   "metadata": {},
   "outputs": [],
   "source": [
    "import yfinance as yf\n",
    "import time\n",
    "import numpy as np\n",
    "import pandas as pd\n",
    "import shutil\n",
    "import wandb\n",
    "import torch\n",
    "import torch.nn as nn\n",
    "import torch.nn.functional as F\n",
    "import torch.optim as optim\n",
    "from torch.utils.data import DataLoader\n",
    "from torchvision import datasets, transforms\n",
    "import torchvision.utils as vutils\n",
    "from sklearn.model_selection import train_test_split\n",
    "from sklearn.preprocessing import MinMaxScaler"
   ]
  },
  {
   "cell_type": "code",
   "execution_count": 3,
   "id": "1c473978",
   "metadata": {},
   "outputs": [
    {
     "name": "stdout",
     "output_type": "stream",
     "text": [
      "Files already downloaded and verified\n"
     ]
    }
   ],
   "source": [
    "# Ensure reproducibility\n",
    "if torch.cuda.is_available():\n",
    "    torch.backends.cudnn.deterministic = True\n",
    "\n",
    "RANDOM_SEED = 1\n",
    "np.random.seed(RANDOM_SEED)\n",
    "torch.manual_seed(RANDOM_SEED)\n",
    "\n",
    "# Hyperparameters\n",
    "batch_size = 128\n",
    "num_classes = 10\n",
    "epochs = 40  \n",
    "\n",
    "# CIFAR-10 Dataset\n",
    "train_dataset = datasets.CIFAR10(root='data', \n",
    "                                 train=True, \n",
    "                                 transform=transforms.ToTensor(),\n",
    "                                 download=True)\n",
    "\n",
    "test_dataset = datasets.CIFAR10(root='data', \n",
    "                                train=False, \n",
    "                                transform=transforms.ToTensor())\n",
    "\n",
    "train_loader = DataLoader(dataset=train_dataset, \n",
    "                          batch_size=batch_size, \n",
    "                          num_workers=0,\n",
    "                          shuffle=True)\n",
    "\n",
    "test_loader = DataLoader(dataset=test_dataset, \n",
    "                         batch_size=batch_size,\n",
    "                         num_workers=0,\n",
    "                         shuffle=False)\n",
    "\n",
    "device = torch.device(\"cuda:0\" if torch.cuda.is_available() else \"cpu\")"
   ]
  },
  {
   "cell_type": "code",
   "execution_count": 4,
   "id": "9086cc66",
   "metadata": {},
   "outputs": [],
   "source": [
    "# CNN Model\n",
    "class LeNetCustom(nn.Module):\n",
    "    def __init__(self, num_classes, activation_fn):\n",
    "        super(LeNetCustom, self).__init__()\n",
    "        self.activation_fn = activation_fn\n",
    "\n",
    "        self.features = nn.Sequential(\n",
    "            nn.Conv2d(3, 6, kernel_size=5, stride=1),\n",
    "            self.activation_fn(),\n",
    "            nn.MaxPool2d(kernel_size=2, stride=2),\n",
    "            nn.Conv2d(6, 16, kernel_size=5, stride=1),\n",
    "            self.activation_fn(),\n",
    "            nn.MaxPool2d(kernel_size=2, stride=2)\n",
    "        )\n",
    "\n",
    "        self.classifier = nn.Sequential(\n",
    "            nn.Linear(16 * 5 * 5, 120),\n",
    "            self.activation_fn(),\n",
    "            nn.Linear(120, 84),\n",
    "            self.activation_fn(),\n",
    "            nn.Linear(84, num_classes),\n",
    "        )\n",
    "\n",
    "    def forward(self, x):\n",
    "        x = self.features(x)\n",
    "        x = torch.flatten(x, 1)\n",
    "        logits = self.classifier(x)\n",
    "        return logits\n",
    "    \n",
    "    def get_feature_maps(self, x):\n",
    "        # Pass input through the feature extraction layers\n",
    "        with torch.no_grad():\n",
    "            feature_maps = self.features(x)\n",
    "        return feature_maps"
   ]
  },
  {
   "cell_type": "code",
   "execution_count": 5,
   "id": "83b0f38c",
   "metadata": {},
   "outputs": [],
   "source": [
    "# Loss computation function\n",
    "def compute_loss(logits, targets, loss_fn):\n",
    "    if isinstance(loss_fn, nn.MSELoss):\n",
    "        targets_one_hot = F.one_hot(targets, num_classes=num_classes).float()\n",
    "        return loss_fn(logits, targets_one_hot)\n",
    "    return loss_fn(logits, targets)"
   ]
  },
  {
   "cell_type": "code",
   "execution_count": 6,
   "id": "7534d0d0",
   "metadata": {},
   "outputs": [],
   "source": [
    "# Training function\n",
    "def train_model(model, optimizer, loss_fn, train_loader, device):\n",
    "    model.train()\n",
    "    running_loss = 0.0\n",
    "    correct_pred = 0\n",
    "    num_examples = 0\n",
    "    \n",
    "    for features, targets in train_loader:\n",
    "        features, targets = features.to(device), targets.to(device)\n",
    "\n",
    "        optimizer.zero_grad()\n",
    "        logits = model(features)\n",
    "        loss = compute_loss(logits, targets, loss_fn)\n",
    "        \n",
    "        loss.backward()\n",
    "        optimizer.step()\n",
    "\n",
    "        running_loss += loss.item() * targets.size(0)\n",
    "        correct_pred += (logits.argmax(dim=1) == targets).sum().item()\n",
    "        num_examples += targets.size(0)\n",
    "        \n",
    "    return running_loss / len(train_loader.dataset), (correct_pred / num_examples) * 100"
   ]
  },
  {
   "cell_type": "code",
   "execution_count": 7,
   "id": "10a5f238",
   "metadata": {},
   "outputs": [],
   "source": [
    "# Evaluation function\n",
    "def evaluate_model(model, loss_fn, data_loader, device):\n",
    "    model.eval()\n",
    "    running_loss = 0.0\n",
    "    correct_pred = 0\n",
    "    num_examples = 0\n",
    "    \n",
    "    with torch.no_grad():\n",
    "        for features, targets in data_loader:\n",
    "            features, targets = features.to(device), targets.to(device)\n",
    "            logits = model(features)\n",
    "            loss = compute_loss(logits, targets, loss_fn)\n",
    "\n",
    "            running_loss += loss.item() * targets.size(0)\n",
    "            correct_pred += (logits.argmax(dim=1) == targets).sum().item()\n",
    "            num_examples += targets.size(0)\n",
    "\n",
    "    return running_loss / len(data_loader.dataset), (correct_pred / num_examples) * 100"
   ]
  },
  {
   "cell_type": "code",
   "execution_count": 8,
   "id": "d8f97efb",
   "metadata": {},
   "outputs": [],
   "source": [
    "# Hyperparameter tuning function\n",
    "def run_experiment(lr, activation_fn, loss_name, loss_fn):\n",
    "    run_name = f\"LR={lr}, Activation={activation_fn.__name__}, Loss={loss_name}\"\n",
    "    print(f\"Initializing wandb run: {run_name}\")\n",
    "\n",
    "    with wandb.init(entity=\"saeah-portland-state-university\",\n",
    "                    project=\"cs540-programming2\",\n",
    "                    name=run_name,\n",
    "                    config={\"learning_rate\": lr, \"activation_function\": activation_fn.__name__, \"loss_function\": loss_name, \"epochs\": epochs}):\n",
    "\n",
    "        model = LeNetCustom(num_classes=num_classes, activation_fn=activation_fn).to(device)\n",
    "        optimizer = torch.optim.SGD(model.parameters(), lr=lr) #, momentum=0.9)\n",
    "        wandb.watch(model, log=\"all\", log_freq=10)\n",
    "\n",
    "        for epoch in range(epochs):\n",
    "            train_loss, train_accuracy = train_model(model, optimizer, loss_fn, train_loader, device)\n",
    "            test_loss, test_accuracy = evaluate_model(model, loss_fn, test_loader, device)\n",
    "\n",
    "            # Every 10 epochs, print the stats\n",
    "            if (epoch + 1) % 10 == 0:\n",
    "                print(f\"Epoch {epoch+1}/{epochs} - Train Loss: {train_loss:.4f}, Train Acc: {train_accuracy:.2f}% | Test Loss: {test_loss:.4f}, Test Acc: {test_accuracy:.2f}%\", flush=True)\n",
    "            \n",
    "            # Log metrics to wandb\n",
    "            wandb.log({\n",
    "                \"train_loss\": train_loss, \n",
    "                \"train_accuracy\": train_accuracy, \n",
    "                \"test_loss\": test_loss, \n",
    "                \"test_accuracy\": test_accuracy, \n",
    "                \"epoch\": epoch + 1})\n",
    "        \n",
    "        # Save the trained model\n",
    "        model_filename = f\"model_lr={lr}_activation={activation_fn.__name__}_loss={loss_name}.pth\"\n",
    "        model_path = os.path.join(\"saved_models\", model_filename)\n",
    "        os.makedirs(\"saved_models\", exist_ok=True)\n",
    "        torch.save(model.state_dict(), model_path)\n",
    "\n",
    "        wandb_model_path = os.path.join(wandb.run.dir, os.path.basename(model_path))\n",
    "        shutil.copy(model_path, wandb_model_path)\n",
    "        \n",
    "    wandb.finish()"
   ]
  },
  {
   "cell_type": "code",
   "execution_count": 9,
   "id": "26b9576b",
   "metadata": {
    "scrolled": true
   },
   "outputs": [
    {
     "name": "stdout",
     "output_type": "stream",
     "text": [
      "Initializing wandb run: LR=0.1, Activation=Sigmoid, Loss=MSE\n"
     ]
    },
    {
     "name": "stderr",
     "output_type": "stream",
     "text": [
      "Failed to detect the name of this notebook, you can set it manually with the WANDB_NOTEBOOK_NAME environment variable to enable code saving.\n",
      "wandb: Currently logged in as: saeah (saeah-portland-state-university). Use `wandb login --relogin` to force relogin\n",
      "wandb: Using wandb-core as the SDK backend.  Please refer to https://wandb.me/wandb-core for more information.\n"
     ]
    },
    {
     "data": {
      "text/html": [
       "Tracking run with wandb version 0.19.4"
      ],
      "text/plain": [
       "<IPython.core.display.HTML object>"
      ]
     },
     "metadata": {},
     "output_type": "display_data"
    },
    {
     "data": {
      "text/html": [
       "Run data is saved locally in <code>C:\\Users\\Saeah Go\\Desktop\\CS540 Deep Learning\\wandb\\run-20250203_025736-m99k2swe</code>"
      ],
      "text/plain": [
       "<IPython.core.display.HTML object>"
      ]
     },
     "metadata": {},
     "output_type": "display_data"
    },
    {
     "data": {
      "text/html": [
       "Syncing run <strong><a href='https://wandb.ai/saeah-portland-state-university/cs540-programming2/runs/m99k2swe' target=\"_blank\">LR=0.1, Activation=Sigmoid, Loss=MSE</a></strong> to <a href='https://wandb.ai/saeah-portland-state-university/cs540-programming2' target=\"_blank\">Weights & Biases</a> (<a href='https://wandb.me/developer-guide' target=\"_blank\">docs</a>)<br>"
      ],
      "text/plain": [
       "<IPython.core.display.HTML object>"
      ]
     },
     "metadata": {},
     "output_type": "display_data"
    },
    {
     "data": {
      "text/html": [
       " View project at <a href='https://wandb.ai/saeah-portland-state-university/cs540-programming2' target=\"_blank\">https://wandb.ai/saeah-portland-state-university/cs540-programming2</a>"
      ],
      "text/plain": [
       "<IPython.core.display.HTML object>"
      ]
     },
     "metadata": {},
     "output_type": "display_data"
    },
    {
     "data": {
      "text/html": [
       " View run at <a href='https://wandb.ai/saeah-portland-state-university/cs540-programming2/runs/m99k2swe' target=\"_blank\">https://wandb.ai/saeah-portland-state-university/cs540-programming2/runs/m99k2swe</a>"
      ],
      "text/plain": [
       "<IPython.core.display.HTML object>"
      ]
     },
     "metadata": {},
     "output_type": "display_data"
    },
    {
     "name": "stdout",
     "output_type": "stream",
     "text": [
      "Epoch 10/40 - Train Loss: 0.0902, Train Acc: 10.13% | Test Loss: 0.0904, Test Acc: 10.00%\n",
      "Epoch 20/40 - Train Loss: 0.0902, Train Acc: 10.03% | Test Loss: 0.0903, Test Acc: 10.00%\n",
      "Epoch 30/40 - Train Loss: 0.0902, Train Acc: 9.81% | Test Loss: 0.0903, Test Acc: 10.00%\n",
      "Epoch 40/40 - Train Loss: 0.0902, Train Acc: 10.18% | Test Loss: 0.0903, Test Acc: 10.00%\n",
      "Model saved: saved_models\\model_lr=0.1_activation=Sigmoid_loss=MSE.pth\n"
     ]
    },
    {
     "data": {
      "text/html": [],
      "text/plain": [
       "<IPython.core.display.HTML object>"
      ]
     },
     "metadata": {},
     "output_type": "display_data"
    },
    {
     "data": {
      "text/html": [
       "<br>    <style><br>        .wandb-row {<br>            display: flex;<br>            flex-direction: row;<br>            flex-wrap: wrap;<br>            justify-content: flex-start;<br>            width: 100%;<br>        }<br>        .wandb-col {<br>            display: flex;<br>            flex-direction: column;<br>            flex-basis: 100%;<br>            flex: 1;<br>            padding: 10px;<br>        }<br>    </style><br><div class=\"wandb-row\"><div class=\"wandb-col\"><h3>Run history:</h3><br/><table class=\"wandb\"><tr><td>epoch</td><td>▁▁▁▂▂▂▂▂▂▃▃▃▃▃▄▄▄▄▄▄▅▅▅▅▅▅▆▆▆▆▆▇▇▇▇▇▇███</td></tr><tr><td>test_accuracy</td><td>▁▁▁▁▁▁▁▁▁▁▁▁▁▁▁▁▁▁▁▁▁▁▁▁▁▁▁▁▁▁▁▁▁▁▁▁▁▁▁▁</td></tr><tr><td>test_loss</td><td>▅▁▂▃▄▅▂▂▁▄▄▃▄▄▂▃▄▂▄▂▁▄▂▅▂▁▅▅▂▃▅▃█▇▅▄▃▃▂▄</td></tr><tr><td>train_accuracy</td><td>▆▂▆▂▃▄▄▄▂▅▃▆▃▂▂▃▁▆▂▄█▄▂▄▃▅▃▃▄▂▅▁▆▄▃▆▄▂▆▆</td></tr><tr><td>train_loss</td><td>█▃▂▂▂▂▂▂▂▂▂▂▂▂▂▂▂▂▂▂▁▂▂▂▂▁▂▁▁▁▂▂▁▂▂▁▂▁▁▁</td></tr></table><br/></div><div class=\"wandb-col\"><h3>Run summary:</h3><br/><table class=\"wandb\"><tr><td>epoch</td><td>40</td></tr><tr><td>test_accuracy</td><td>10</td></tr><tr><td>test_loss</td><td>0.09033</td></tr><tr><td>train_accuracy</td><td>10.18</td></tr><tr><td>train_loss</td><td>0.09019</td></tr></table><br/></div></div>"
      ],
      "text/plain": [
       "<IPython.core.display.HTML object>"
      ]
     },
     "metadata": {},
     "output_type": "display_data"
    },
    {
     "data": {
      "text/html": [
       " View run <strong style=\"color:#cdcd00\">LR=0.1, Activation=Sigmoid, Loss=MSE</strong> at: <a href='https://wandb.ai/saeah-portland-state-university/cs540-programming2/runs/m99k2swe' target=\"_blank\">https://wandb.ai/saeah-portland-state-university/cs540-programming2/runs/m99k2swe</a><br> View project at: <a href='https://wandb.ai/saeah-portland-state-university/cs540-programming2' target=\"_blank\">https://wandb.ai/saeah-portland-state-university/cs540-programming2</a><br>Synced 5 W&B file(s), 0 media file(s), 0 artifact file(s) and 0 other file(s)"
      ],
      "text/plain": [
       "<IPython.core.display.HTML object>"
      ]
     },
     "metadata": {},
     "output_type": "display_data"
    },
    {
     "data": {
      "text/html": [
       "Find logs at: <code>.\\wandb\\run-20250203_025736-m99k2swe\\logs</code>"
      ],
      "text/plain": [
       "<IPython.core.display.HTML object>"
      ]
     },
     "metadata": {},
     "output_type": "display_data"
    },
    {
     "name": "stdout",
     "output_type": "stream",
     "text": [
      "Finishing wandb run...\n",
      "Initializing wandb run: LR=0.1, Activation=Sigmoid, Loss=CrossEntropy\n"
     ]
    },
    {
     "data": {
      "text/html": [
       "Tracking run with wandb version 0.19.4"
      ],
      "text/plain": [
       "<IPython.core.display.HTML object>"
      ]
     },
     "metadata": {},
     "output_type": "display_data"
    },
    {
     "data": {
      "text/html": [
       "Run data is saved locally in <code>C:\\Users\\Saeah Go\\Desktop\\CS540 Deep Learning\\wandb\\run-20250203_031508-1eaoomqd</code>"
      ],
      "text/plain": [
       "<IPython.core.display.HTML object>"
      ]
     },
     "metadata": {},
     "output_type": "display_data"
    },
    {
     "data": {
      "text/html": [
       "Syncing run <strong><a href='https://wandb.ai/saeah-portland-state-university/cs540-programming2/runs/1eaoomqd' target=\"_blank\">LR=0.1, Activation=Sigmoid, Loss=CrossEntropy</a></strong> to <a href='https://wandb.ai/saeah-portland-state-university/cs540-programming2' target=\"_blank\">Weights & Biases</a> (<a href='https://wandb.me/developer-guide' target=\"_blank\">docs</a>)<br>"
      ],
      "text/plain": [
       "<IPython.core.display.HTML object>"
      ]
     },
     "metadata": {},
     "output_type": "display_data"
    },
    {
     "data": {
      "text/html": [
       " View project at <a href='https://wandb.ai/saeah-portland-state-university/cs540-programming2' target=\"_blank\">https://wandb.ai/saeah-portland-state-university/cs540-programming2</a>"
      ],
      "text/plain": [
       "<IPython.core.display.HTML object>"
      ]
     },
     "metadata": {},
     "output_type": "display_data"
    },
    {
     "data": {
      "text/html": [
       " View run at <a href='https://wandb.ai/saeah-portland-state-university/cs540-programming2/runs/1eaoomqd' target=\"_blank\">https://wandb.ai/saeah-portland-state-university/cs540-programming2/runs/1eaoomqd</a>"
      ],
      "text/plain": [
       "<IPython.core.display.HTML object>"
      ]
     },
     "metadata": {},
     "output_type": "display_data"
    },
    {
     "name": "stdout",
     "output_type": "stream",
     "text": [
      "Epoch 10/40 - Train Loss: 2.3052, Train Acc: 9.96% | Test Loss: 2.3041, Test Acc: 10.00%\n",
      "Epoch 20/40 - Train Loss: 2.3041, Train Acc: 10.11% | Test Loss: 2.3046, Test Acc: 10.00%\n",
      "Epoch 30/40 - Train Loss: 2.3034, Train Acc: 10.01% | Test Loss: 2.3030, Test Acc: 10.00%\n",
      "Epoch 40/40 - Train Loss: 2.3033, Train Acc: 9.96% | Test Loss: 2.3026, Test Acc: 10.00%\n",
      "Model saved: saved_models\\model_lr=0.1_activation=Sigmoid_loss=CrossEntropy.pth\n"
     ]
    },
    {
     "data": {
      "text/html": [],
      "text/plain": [
       "<IPython.core.display.HTML object>"
      ]
     },
     "metadata": {},
     "output_type": "display_data"
    },
    {
     "data": {
      "text/html": [
       "<br>    <style><br>        .wandb-row {<br>            display: flex;<br>            flex-direction: row;<br>            flex-wrap: wrap;<br>            justify-content: flex-start;<br>            width: 100%;<br>        }<br>        .wandb-col {<br>            display: flex;<br>            flex-direction: column;<br>            flex-basis: 100%;<br>            flex: 1;<br>            padding: 10px;<br>        }<br>    </style><br><div class=\"wandb-row\"><div class=\"wandb-col\"><h3>Run history:</h3><br/><table class=\"wandb\"><tr><td>epoch</td><td>▁▁▁▂▂▂▂▂▂▃▃▃▃▃▄▄▄▄▄▄▅▅▅▅▅▅▆▆▆▆▆▇▇▇▇▇▇███</td></tr><tr><td>test_accuracy</td><td>▁▁▁▁▁▁▁▁▁▁▁▁▁▁▁▁▁▁▁▁▁▁▁▁▁▁▁▁▁▁▁▁▁▁▁▁█▁▁▁</td></tr><tr><td>test_loss</td><td>▆█▅▆▅▃▃▅▃▃▃▂▄▃▃▃▂▄▃▃▃▁▂▂▂▂▂▂▂▁▁▂▂▂▁▂▁▂▂▁</td></tr><tr><td>train_accuracy</td><td>▅▁▅▆▄█▆▄▂▄▄▅▂▆▃▄▃▃▆▆▄▅▄▄▃▅▄▃▄▅▁▃▅▆▃▅▆▄▄▄</td></tr><tr><td>train_loss</td><td>██▇▆▆▅▅▅▅▄▄▄▄▄▃▃▃▃▂▃▂▃▂▂▂▂▂▂▂▁▂▁▁▂▁▁▁▁▁▁</td></tr></table><br/></div><div class=\"wandb-col\"><h3>Run summary:</h3><br/><table class=\"wandb\"><tr><td>epoch</td><td>40</td></tr><tr><td>test_accuracy</td><td>10</td></tr><tr><td>test_loss</td><td>2.30258</td></tr><tr><td>train_accuracy</td><td>9.958</td></tr><tr><td>train_loss</td><td>2.30328</td></tr></table><br/></div></div>"
      ],
      "text/plain": [
       "<IPython.core.display.HTML object>"
      ]
     },
     "metadata": {},
     "output_type": "display_data"
    },
    {
     "data": {
      "text/html": [
       " View run <strong style=\"color:#cdcd00\">LR=0.1, Activation=Sigmoid, Loss=CrossEntropy</strong> at: <a href='https://wandb.ai/saeah-portland-state-university/cs540-programming2/runs/1eaoomqd' target=\"_blank\">https://wandb.ai/saeah-portland-state-university/cs540-programming2/runs/1eaoomqd</a><br> View project at: <a href='https://wandb.ai/saeah-portland-state-university/cs540-programming2' target=\"_blank\">https://wandb.ai/saeah-portland-state-university/cs540-programming2</a><br>Synced 5 W&B file(s), 0 media file(s), 0 artifact file(s) and 0 other file(s)"
      ],
      "text/plain": [
       "<IPython.core.display.HTML object>"
      ]
     },
     "metadata": {},
     "output_type": "display_data"
    },
    {
     "data": {
      "text/html": [
       "Find logs at: <code>.\\wandb\\run-20250203_031508-1eaoomqd\\logs</code>"
      ],
      "text/plain": [
       "<IPython.core.display.HTML object>"
      ]
     },
     "metadata": {},
     "output_type": "display_data"
    },
    {
     "name": "stdout",
     "output_type": "stream",
     "text": [
      "Finishing wandb run...\n",
      "Initializing wandb run: LR=0.1, Activation=Tanh, Loss=MSE\n"
     ]
    },
    {
     "data": {
      "text/html": [
       "Tracking run with wandb version 0.19.4"
      ],
      "text/plain": [
       "<IPython.core.display.HTML object>"
      ]
     },
     "metadata": {},
     "output_type": "display_data"
    },
    {
     "data": {
      "text/html": [
       "Run data is saved locally in <code>C:\\Users\\Saeah Go\\Desktop\\CS540 Deep Learning\\wandb\\run-20250203_033234-j6dgmdi2</code>"
      ],
      "text/plain": [
       "<IPython.core.display.HTML object>"
      ]
     },
     "metadata": {},
     "output_type": "display_data"
    },
    {
     "data": {
      "text/html": [
       "Syncing run <strong><a href='https://wandb.ai/saeah-portland-state-university/cs540-programming2/runs/j6dgmdi2' target=\"_blank\">LR=0.1, Activation=Tanh, Loss=MSE</a></strong> to <a href='https://wandb.ai/saeah-portland-state-university/cs540-programming2' target=\"_blank\">Weights & Biases</a> (<a href='https://wandb.me/developer-guide' target=\"_blank\">docs</a>)<br>"
      ],
      "text/plain": [
       "<IPython.core.display.HTML object>"
      ]
     },
     "metadata": {},
     "output_type": "display_data"
    },
    {
     "data": {
      "text/html": [
       " View project at <a href='https://wandb.ai/saeah-portland-state-university/cs540-programming2' target=\"_blank\">https://wandb.ai/saeah-portland-state-university/cs540-programming2</a>"
      ],
      "text/plain": [
       "<IPython.core.display.HTML object>"
      ]
     },
     "metadata": {},
     "output_type": "display_data"
    },
    {
     "data": {
      "text/html": [
       " View run at <a href='https://wandb.ai/saeah-portland-state-university/cs540-programming2/runs/j6dgmdi2' target=\"_blank\">https://wandb.ai/saeah-portland-state-university/cs540-programming2/runs/j6dgmdi2</a>"
      ],
      "text/plain": [
       "<IPython.core.display.HTML object>"
      ]
     },
     "metadata": {},
     "output_type": "display_data"
    },
    {
     "name": "stdout",
     "output_type": "stream",
     "text": [
      "Epoch 10/40 - Train Loss: 0.0775, Train Acc: 41.43% | Test Loss: 0.0771, Test Acc: 42.27%\n",
      "Epoch 20/40 - Train Loss: 0.0738, Train Acc: 46.14% | Test Loss: 0.0737, Test Acc: 46.05%\n",
      "Epoch 30/40 - Train Loss: 0.0705, Train Acc: 49.22% | Test Loss: 0.0704, Test Acc: 49.40%\n",
      "Epoch 40/40 - Train Loss: 0.0675, Train Acc: 52.07% | Test Loss: 0.0683, Test Acc: 51.63%\n",
      "Model saved: saved_models\\model_lr=0.1_activation=Tanh_loss=MSE.pth\n"
     ]
    },
    {
     "data": {
      "text/html": [],
      "text/plain": [
       "<IPython.core.display.HTML object>"
      ]
     },
     "metadata": {},
     "output_type": "display_data"
    },
    {
     "data": {
      "text/html": [
       "<br>    <style><br>        .wandb-row {<br>            display: flex;<br>            flex-direction: row;<br>            flex-wrap: wrap;<br>            justify-content: flex-start;<br>            width: 100%;<br>        }<br>        .wandb-col {<br>            display: flex;<br>            flex-direction: column;<br>            flex-basis: 100%;<br>            flex: 1;<br>            padding: 10px;<br>        }<br>    </style><br><div class=\"wandb-row\"><div class=\"wandb-col\"><h3>Run history:</h3><br/><table class=\"wandb\"><tr><td>epoch</td><td>▁▁▁▂▂▂▂▂▂▃▃▃▃▃▄▄▄▄▄▄▅▅▅▅▅▅▆▆▆▆▆▇▇▇▇▇▇███</td></tr><tr><td>test_accuracy</td><td>▁▃▄▄▅▅▅▅▆▆▆▆▆▆▆▆▆▆▆▇▇▇▇▇▇▇▇▇▇▇█▇████████</td></tr><tr><td>test_loss</td><td>█▇▆▆▅▅▅▅▄▄▄▄▄▄▄▄▄▃▃▃▃▃▃▂▃▂▂▂▂▂▂▂▂▂▁▁▁▁▁▁</td></tr><tr><td>train_accuracy</td><td>▁▃▄▄▅▅▅▆▆▆▆▆▆▆▆▆▇▇▇▇▇▇▇▇▇▇▇▇▇▇▇█████████</td></tr><tr><td>train_loss</td><td>█▇▆▆▅▅▅▅▄▄▄▄▄▄▄▃▃▃▃▃▃▃▃▃▃▂▂▂▂▂▂▂▂▂▁▁▁▁▁▁</td></tr></table><br/></div><div class=\"wandb-col\"><h3>Run summary:</h3><br/><table class=\"wandb\"><tr><td>epoch</td><td>40</td></tr><tr><td>test_accuracy</td><td>51.63</td></tr><tr><td>test_loss</td><td>0.0683</td></tr><tr><td>train_accuracy</td><td>52.066</td></tr><tr><td>train_loss</td><td>0.06748</td></tr></table><br/></div></div>"
      ],
      "text/plain": [
       "<IPython.core.display.HTML object>"
      ]
     },
     "metadata": {},
     "output_type": "display_data"
    },
    {
     "data": {
      "text/html": [
       " View run <strong style=\"color:#cdcd00\">LR=0.1, Activation=Tanh, Loss=MSE</strong> at: <a href='https://wandb.ai/saeah-portland-state-university/cs540-programming2/runs/j6dgmdi2' target=\"_blank\">https://wandb.ai/saeah-portland-state-university/cs540-programming2/runs/j6dgmdi2</a><br> View project at: <a href='https://wandb.ai/saeah-portland-state-university/cs540-programming2' target=\"_blank\">https://wandb.ai/saeah-portland-state-university/cs540-programming2</a><br>Synced 5 W&B file(s), 0 media file(s), 0 artifact file(s) and 0 other file(s)"
      ],
      "text/plain": [
       "<IPython.core.display.HTML object>"
      ]
     },
     "metadata": {},
     "output_type": "display_data"
    },
    {
     "data": {
      "text/html": [
       "Find logs at: <code>.\\wandb\\run-20250203_033234-j6dgmdi2\\logs</code>"
      ],
      "text/plain": [
       "<IPython.core.display.HTML object>"
      ]
     },
     "metadata": {},
     "output_type": "display_data"
    },
    {
     "name": "stdout",
     "output_type": "stream",
     "text": [
      "Finishing wandb run...\n",
      "Initializing wandb run: LR=0.1, Activation=Tanh, Loss=CrossEntropy\n"
     ]
    },
    {
     "data": {
      "text/html": [
       "Tracking run with wandb version 0.19.4"
      ],
      "text/plain": [
       "<IPython.core.display.HTML object>"
      ]
     },
     "metadata": {},
     "output_type": "display_data"
    },
    {
     "data": {
      "text/html": [
       "Run data is saved locally in <code>C:\\Users\\Saeah Go\\Desktop\\CS540 Deep Learning\\wandb\\run-20250203_035012-wxc26tn8</code>"
      ],
      "text/plain": [
       "<IPython.core.display.HTML object>"
      ]
     },
     "metadata": {},
     "output_type": "display_data"
    },
    {
     "data": {
      "text/html": [
       "Syncing run <strong><a href='https://wandb.ai/saeah-portland-state-university/cs540-programming2/runs/wxc26tn8' target=\"_blank\">LR=0.1, Activation=Tanh, Loss=CrossEntropy</a></strong> to <a href='https://wandb.ai/saeah-portland-state-university/cs540-programming2' target=\"_blank\">Weights & Biases</a> (<a href='https://wandb.me/developer-guide' target=\"_blank\">docs</a>)<br>"
      ],
      "text/plain": [
       "<IPython.core.display.HTML object>"
      ]
     },
     "metadata": {},
     "output_type": "display_data"
    },
    {
     "data": {
      "text/html": [
       " View project at <a href='https://wandb.ai/saeah-portland-state-university/cs540-programming2' target=\"_blank\">https://wandb.ai/saeah-portland-state-university/cs540-programming2</a>"
      ],
      "text/plain": [
       "<IPython.core.display.HTML object>"
      ]
     },
     "metadata": {},
     "output_type": "display_data"
    },
    {
     "data": {
      "text/html": [
       " View run at <a href='https://wandb.ai/saeah-portland-state-university/cs540-programming2/runs/wxc26tn8' target=\"_blank\">https://wandb.ai/saeah-portland-state-university/cs540-programming2/runs/wxc26tn8</a>"
      ],
      "text/plain": [
       "<IPython.core.display.HTML object>"
      ]
     },
     "metadata": {},
     "output_type": "display_data"
    },
    {
     "name": "stdout",
     "output_type": "stream",
     "text": [
      "Epoch 10/40 - Train Loss: 1.1129, Train Acc: 60.77% | Test Loss: 1.2248, Test Acc: 56.33%\n",
      "Epoch 20/40 - Train Loss: 0.8492, Train Acc: 70.13% | Test Loss: 1.2158, Test Acc: 59.30%\n",
      "Epoch 30/40 - Train Loss: 0.6681, Train Acc: 76.55% | Test Loss: 1.5013, Test Acc: 54.59%\n",
      "Epoch 40/40 - Train Loss: 0.5306, Train Acc: 81.42% | Test Loss: 1.5338, Test Acc: 57.22%\n",
      "Model saved: saved_models\\model_lr=0.1_activation=Tanh_loss=CrossEntropy.pth\n"
     ]
    },
    {
     "data": {
      "text/html": [],
      "text/plain": [
       "<IPython.core.display.HTML object>"
      ]
     },
     "metadata": {},
     "output_type": "display_data"
    },
    {
     "data": {
      "text/html": [
       "<br>    <style><br>        .wandb-row {<br>            display: flex;<br>            flex-direction: row;<br>            flex-wrap: wrap;<br>            justify-content: flex-start;<br>            width: 100%;<br>        }<br>        .wandb-col {<br>            display: flex;<br>            flex-direction: column;<br>            flex-basis: 100%;<br>            flex: 1;<br>            padding: 10px;<br>        }<br>    </style><br><div class=\"wandb-row\"><div class=\"wandb-col\"><h3>Run history:</h3><br/><table class=\"wandb\"><tr><td>epoch</td><td>▁▁▁▂▂▂▂▂▂▃▃▃▃▃▄▄▄▄▄▄▅▅▅▅▅▅▆▆▆▆▆▇▇▇▇▇▇███</td></tr><tr><td>test_accuracy</td><td>▁▃▄▅▆▆▇▆▆▇█▇▇█████████▇█▇████▆▇▇▇▇▇▇█▇▇▇</td></tr><tr><td>test_loss</td><td>█▆▅▄▃▃▂▃▂▂▁▂▂▁▂▁▁▁▂▂▂▂▃▂▄▃▂▂▃▅▃▄▄▄▅▄▄▆▅▅</td></tr><tr><td>train_accuracy</td><td>▁▃▃▄▄▅▅▅▅▅▆▆▆▆▆▆▆▆▆▇▇▇▇▇▇▇▇▇▇▇▇█████████</td></tr><tr><td>train_loss</td><td>█▆▆▅▅▅▄▄▄▄▄▃▃▃▃▃▃▃▃▂▂▂▂▂▂▂▂▂▂▂▂▂▁▁▁▁▁▁▁▁</td></tr></table><br/></div><div class=\"wandb-col\"><h3>Run summary:</h3><br/><table class=\"wandb\"><tr><td>epoch</td><td>40</td></tr><tr><td>test_accuracy</td><td>57.22</td></tr><tr><td>test_loss</td><td>1.53376</td></tr><tr><td>train_accuracy</td><td>81.42</td></tr><tr><td>train_loss</td><td>0.53062</td></tr></table><br/></div></div>"
      ],
      "text/plain": [
       "<IPython.core.display.HTML object>"
      ]
     },
     "metadata": {},
     "output_type": "display_data"
    },
    {
     "data": {
      "text/html": [
       " View run <strong style=\"color:#cdcd00\">LR=0.1, Activation=Tanh, Loss=CrossEntropy</strong> at: <a href='https://wandb.ai/saeah-portland-state-university/cs540-programming2/runs/wxc26tn8' target=\"_blank\">https://wandb.ai/saeah-portland-state-university/cs540-programming2/runs/wxc26tn8</a><br> View project at: <a href='https://wandb.ai/saeah-portland-state-university/cs540-programming2' target=\"_blank\">https://wandb.ai/saeah-portland-state-university/cs540-programming2</a><br>Synced 5 W&B file(s), 0 media file(s), 0 artifact file(s) and 0 other file(s)"
      ],
      "text/plain": [
       "<IPython.core.display.HTML object>"
      ]
     },
     "metadata": {},
     "output_type": "display_data"
    },
    {
     "data": {
      "text/html": [
       "Find logs at: <code>.\\wandb\\run-20250203_035012-wxc26tn8\\logs</code>"
      ],
      "text/plain": [
       "<IPython.core.display.HTML object>"
      ]
     },
     "metadata": {},
     "output_type": "display_data"
    },
    {
     "name": "stdout",
     "output_type": "stream",
     "text": [
      "Finishing wandb run...\n",
      "Initializing wandb run: LR=0.01, Activation=Sigmoid, Loss=MSE\n"
     ]
    },
    {
     "data": {
      "text/html": [
       "Tracking run with wandb version 0.19.4"
      ],
      "text/plain": [
       "<IPython.core.display.HTML object>"
      ]
     },
     "metadata": {},
     "output_type": "display_data"
    },
    {
     "data": {
      "text/html": [
       "Run data is saved locally in <code>C:\\Users\\Saeah Go\\Desktop\\CS540 Deep Learning\\wandb\\run-20250203_040754-687hc5xa</code>"
      ],
      "text/plain": [
       "<IPython.core.display.HTML object>"
      ]
     },
     "metadata": {},
     "output_type": "display_data"
    },
    {
     "data": {
      "text/html": [
       "Syncing run <strong><a href='https://wandb.ai/saeah-portland-state-university/cs540-programming2/runs/687hc5xa' target=\"_blank\">LR=0.01, Activation=Sigmoid, Loss=MSE</a></strong> to <a href='https://wandb.ai/saeah-portland-state-university/cs540-programming2' target=\"_blank\">Weights & Biases</a> (<a href='https://wandb.me/developer-guide' target=\"_blank\">docs</a>)<br>"
      ],
      "text/plain": [
       "<IPython.core.display.HTML object>"
      ]
     },
     "metadata": {},
     "output_type": "display_data"
    },
    {
     "data": {
      "text/html": [
       " View project at <a href='https://wandb.ai/saeah-portland-state-university/cs540-programming2' target=\"_blank\">https://wandb.ai/saeah-portland-state-university/cs540-programming2</a>"
      ],
      "text/plain": [
       "<IPython.core.display.HTML object>"
      ]
     },
     "metadata": {},
     "output_type": "display_data"
    },
    {
     "data": {
      "text/html": [
       " View run at <a href='https://wandb.ai/saeah-portland-state-university/cs540-programming2/runs/687hc5xa' target=\"_blank\">https://wandb.ai/saeah-portland-state-university/cs540-programming2/runs/687hc5xa</a>"
      ],
      "text/plain": [
       "<IPython.core.display.HTML object>"
      ]
     },
     "metadata": {},
     "output_type": "display_data"
    },
    {
     "name": "stdout",
     "output_type": "stream",
     "text": [
      "Epoch 10/40 - Train Loss: 0.0900, Train Acc: 9.89% | Test Loss: 0.0900, Test Acc: 10.00%\n",
      "Epoch 20/40 - Train Loss: 0.0900, Train Acc: 10.10% | Test Loss: 0.0900, Test Acc: 10.00%\n",
      "Epoch 30/40 - Train Loss: 0.0900, Train Acc: 9.87% | Test Loss: 0.0900, Test Acc: 10.00%\n",
      "Epoch 40/40 - Train Loss: 0.0900, Train Acc: 10.00% | Test Loss: 0.0900, Test Acc: 10.00%\n",
      "Model saved: saved_models\\model_lr=0.01_activation=Sigmoid_loss=MSE.pth\n"
     ]
    },
    {
     "data": {
      "text/html": [],
      "text/plain": [
       "<IPython.core.display.HTML object>"
      ]
     },
     "metadata": {},
     "output_type": "display_data"
    },
    {
     "data": {
      "text/html": [
       "<br>    <style><br>        .wandb-row {<br>            display: flex;<br>            flex-direction: row;<br>            flex-wrap: wrap;<br>            justify-content: flex-start;<br>            width: 100%;<br>        }<br>        .wandb-col {<br>            display: flex;<br>            flex-direction: column;<br>            flex-basis: 100%;<br>            flex: 1;<br>            padding: 10px;<br>        }<br>    </style><br><div class=\"wandb-row\"><div class=\"wandb-col\"><h3>Run history:</h3><br/><table class=\"wandb\"><tr><td>epoch</td><td>▁▁▁▂▂▂▂▂▂▃▃▃▃▃▄▄▄▄▄▄▅▅▅▅▅▅▆▆▆▆▆▇▇▇▇▇▇███</td></tr><tr><td>test_accuracy</td><td>█████████████████████▁██████████████████</td></tr><tr><td>test_loss</td><td>▃▅▆▃▃▂▇▂▃▄▄█▄▄▅▃▃▄▄▂▄▂▄▆▃▆▂▆▂▂▅▂▅▅▃▂▂▅▁▃</td></tr><tr><td>train_accuracy</td><td>▇▁▇▇▅▄▂▆▅▄▆▄▄▃▅▃▅▆▅▇▇▅▇▆▂▃▆▃▆▄▂█▃▅▅▅▅█▂▆</td></tr><tr><td>train_loss</td><td>█▁▁▁▁▁▁▁▁▁▁▁▁▁▁▁▁▁▁▁▁▁▁▁▁▁▁▁▁▁▁▁▁▁▁▁▁▁▁▁</td></tr></table><br/></div><div class=\"wandb-col\"><h3>Run summary:</h3><br/><table class=\"wandb\"><tr><td>epoch</td><td>40</td></tr><tr><td>test_accuracy</td><td>10</td></tr><tr><td>test_loss</td><td>0.09001</td></tr><tr><td>train_accuracy</td><td>10.004</td></tr><tr><td>train_loss</td><td>0.09002</td></tr></table><br/></div></div>"
      ],
      "text/plain": [
       "<IPython.core.display.HTML object>"
      ]
     },
     "metadata": {},
     "output_type": "display_data"
    },
    {
     "data": {
      "text/html": [
       " View run <strong style=\"color:#cdcd00\">LR=0.01, Activation=Sigmoid, Loss=MSE</strong> at: <a href='https://wandb.ai/saeah-portland-state-university/cs540-programming2/runs/687hc5xa' target=\"_blank\">https://wandb.ai/saeah-portland-state-university/cs540-programming2/runs/687hc5xa</a><br> View project at: <a href='https://wandb.ai/saeah-portland-state-university/cs540-programming2' target=\"_blank\">https://wandb.ai/saeah-portland-state-university/cs540-programming2</a><br>Synced 5 W&B file(s), 0 media file(s), 0 artifact file(s) and 0 other file(s)"
      ],
      "text/plain": [
       "<IPython.core.display.HTML object>"
      ]
     },
     "metadata": {},
     "output_type": "display_data"
    },
    {
     "data": {
      "text/html": [
       "Find logs at: <code>.\\wandb\\run-20250203_040754-687hc5xa\\logs</code>"
      ],
      "text/plain": [
       "<IPython.core.display.HTML object>"
      ]
     },
     "metadata": {},
     "output_type": "display_data"
    },
    {
     "name": "stdout",
     "output_type": "stream",
     "text": [
      "Finishing wandb run...\n",
      "Initializing wandb run: LR=0.01, Activation=Sigmoid, Loss=CrossEntropy\n"
     ]
    },
    {
     "data": {
      "text/html": [
       "Tracking run with wandb version 0.19.4"
      ],
      "text/plain": [
       "<IPython.core.display.HTML object>"
      ]
     },
     "metadata": {},
     "output_type": "display_data"
    },
    {
     "data": {
      "text/html": [
       "Run data is saved locally in <code>C:\\Users\\Saeah Go\\Desktop\\CS540 Deep Learning\\wandb\\run-20250203_042558-zudgqahp</code>"
      ],
      "text/plain": [
       "<IPython.core.display.HTML object>"
      ]
     },
     "metadata": {},
     "output_type": "display_data"
    },
    {
     "data": {
      "text/html": [
       "Syncing run <strong><a href='https://wandb.ai/saeah-portland-state-university/cs540-programming2/runs/zudgqahp' target=\"_blank\">LR=0.01, Activation=Sigmoid, Loss=CrossEntropy</a></strong> to <a href='https://wandb.ai/saeah-portland-state-university/cs540-programming2' target=\"_blank\">Weights & Biases</a> (<a href='https://wandb.me/developer-guide' target=\"_blank\">docs</a>)<br>"
      ],
      "text/plain": [
       "<IPython.core.display.HTML object>"
      ]
     },
     "metadata": {},
     "output_type": "display_data"
    },
    {
     "data": {
      "text/html": [
       " View project at <a href='https://wandb.ai/saeah-portland-state-university/cs540-programming2' target=\"_blank\">https://wandb.ai/saeah-portland-state-university/cs540-programming2</a>"
      ],
      "text/plain": [
       "<IPython.core.display.HTML object>"
      ]
     },
     "metadata": {},
     "output_type": "display_data"
    },
    {
     "data": {
      "text/html": [
       " View run at <a href='https://wandb.ai/saeah-portland-state-university/cs540-programming2/runs/zudgqahp' target=\"_blank\">https://wandb.ai/saeah-portland-state-university/cs540-programming2/runs/zudgqahp</a>"
      ],
      "text/plain": [
       "<IPython.core.display.HTML object>"
      ]
     },
     "metadata": {},
     "output_type": "display_data"
    },
    {
     "name": "stdout",
     "output_type": "stream",
     "text": [
      "Epoch 10/40 - Train Loss: 2.3030, Train Acc: 9.91% | Test Loss: 2.3028, Test Acc: 10.00%\n",
      "Epoch 20/40 - Train Loss: 2.3031, Train Acc: 9.60% | Test Loss: 2.3029, Test Acc: 10.00%\n",
      "Epoch 30/40 - Train Loss: 2.3031, Train Acc: 9.90% | Test Loss: 2.3029, Test Acc: 10.00%\n",
      "Epoch 40/40 - Train Loss: 2.3031, Train Acc: 9.85% | Test Loss: 2.3027, Test Acc: 10.00%\n",
      "Model saved: saved_models\\model_lr=0.01_activation=Sigmoid_loss=CrossEntropy.pth\n"
     ]
    },
    {
     "data": {
      "text/html": [],
      "text/plain": [
       "<IPython.core.display.HTML object>"
      ]
     },
     "metadata": {},
     "output_type": "display_data"
    },
    {
     "data": {
      "text/html": [
       "<br>    <style><br>        .wandb-row {<br>            display: flex;<br>            flex-direction: row;<br>            flex-wrap: wrap;<br>            justify-content: flex-start;<br>            width: 100%;<br>        }<br>        .wandb-col {<br>            display: flex;<br>            flex-direction: column;<br>            flex-basis: 100%;<br>            flex: 1;<br>            padding: 10px;<br>        }<br>    </style><br><div class=\"wandb-row\"><div class=\"wandb-col\"><h3>Run history:</h3><br/><table class=\"wandb\"><tr><td>epoch</td><td>▁▁▁▂▂▂▂▂▂▃▃▃▃▃▄▄▄▄▄▄▅▅▅▅▅▅▆▆▆▆▆▇▇▇▇▇▇███</td></tr><tr><td>test_accuracy</td><td>▁▁▁▁▁▁▁▁▁▁▁▁▁▁▁▁▁▁▁▁▁▁▁▁▁▁▁▁▁▁▁▁▁▁▁▁▁▁▁▁</td></tr><tr><td>test_loss</td><td>▆▅▃▄▂▃▂▁▃▂▂▅▂█▅▄▄▅▃▄▁▃▅▂▃▂▅▄▆▃▃▆▅▂▂▃▄▄▃▁</td></tr><tr><td>train_accuracy</td><td>▅▆█▆▄▆█▄▇▆▄▅▇▅▄▅▆█▄▂▅▆▂▇▇▆▅▅▇▅▃▆▆▆▇▇▄▆▁▅</td></tr><tr><td>train_loss</td><td>█▁▁▁▂▁▁▂▁▁▂▁▁▁▂▁▁▁▂▂▂▁▁▁▁▁▁▂▁▁▂▁▁▁▁▁▁▁▂▁</td></tr></table><br/></div><div class=\"wandb-col\"><h3>Run summary:</h3><br/><table class=\"wandb\"><tr><td>epoch</td><td>40</td></tr><tr><td>test_accuracy</td><td>10</td></tr><tr><td>test_loss</td><td>2.30269</td></tr><tr><td>train_accuracy</td><td>9.852</td></tr><tr><td>train_loss</td><td>2.30311</td></tr></table><br/></div></div>"
      ],
      "text/plain": [
       "<IPython.core.display.HTML object>"
      ]
     },
     "metadata": {},
     "output_type": "display_data"
    },
    {
     "data": {
      "text/html": [
       " View run <strong style=\"color:#cdcd00\">LR=0.01, Activation=Sigmoid, Loss=CrossEntropy</strong> at: <a href='https://wandb.ai/saeah-portland-state-university/cs540-programming2/runs/zudgqahp' target=\"_blank\">https://wandb.ai/saeah-portland-state-university/cs540-programming2/runs/zudgqahp</a><br> View project at: <a href='https://wandb.ai/saeah-portland-state-university/cs540-programming2' target=\"_blank\">https://wandb.ai/saeah-portland-state-university/cs540-programming2</a><br>Synced 5 W&B file(s), 0 media file(s), 0 artifact file(s) and 0 other file(s)"
      ],
      "text/plain": [
       "<IPython.core.display.HTML object>"
      ]
     },
     "metadata": {},
     "output_type": "display_data"
    },
    {
     "data": {
      "text/html": [
       "Find logs at: <code>.\\wandb\\run-20250203_042558-zudgqahp\\logs</code>"
      ],
      "text/plain": [
       "<IPython.core.display.HTML object>"
      ]
     },
     "metadata": {},
     "output_type": "display_data"
    },
    {
     "name": "stdout",
     "output_type": "stream",
     "text": [
      "Finishing wandb run...\n",
      "Initializing wandb run: LR=0.01, Activation=Tanh, Loss=MSE\n"
     ]
    },
    {
     "data": {
      "text/html": [
       "Tracking run with wandb version 0.19.4"
      ],
      "text/plain": [
       "<IPython.core.display.HTML object>"
      ]
     },
     "metadata": {},
     "output_type": "display_data"
    },
    {
     "data": {
      "text/html": [
       "Run data is saved locally in <code>C:\\Users\\Saeah Go\\Desktop\\CS540 Deep Learning\\wandb\\run-20250203_044322-4z09j8vi</code>"
      ],
      "text/plain": [
       "<IPython.core.display.HTML object>"
      ]
     },
     "metadata": {},
     "output_type": "display_data"
    },
    {
     "data": {
      "text/html": [
       "Syncing run <strong><a href='https://wandb.ai/saeah-portland-state-university/cs540-programming2/runs/4z09j8vi' target=\"_blank\">LR=0.01, Activation=Tanh, Loss=MSE</a></strong> to <a href='https://wandb.ai/saeah-portland-state-university/cs540-programming2' target=\"_blank\">Weights & Biases</a> (<a href='https://wandb.me/developer-guide' target=\"_blank\">docs</a>)<br>"
      ],
      "text/plain": [
       "<IPython.core.display.HTML object>"
      ]
     },
     "metadata": {},
     "output_type": "display_data"
    },
    {
     "data": {
      "text/html": [
       " View project at <a href='https://wandb.ai/saeah-portland-state-university/cs540-programming2' target=\"_blank\">https://wandb.ai/saeah-portland-state-university/cs540-programming2</a>"
      ],
      "text/plain": [
       "<IPython.core.display.HTML object>"
      ]
     },
     "metadata": {},
     "output_type": "display_data"
    },
    {
     "data": {
      "text/html": [
       " View run at <a href='https://wandb.ai/saeah-portland-state-university/cs540-programming2/runs/4z09j8vi' target=\"_blank\">https://wandb.ai/saeah-portland-state-university/cs540-programming2/runs/4z09j8vi</a>"
      ],
      "text/plain": [
       "<IPython.core.display.HTML object>"
      ]
     },
     "metadata": {},
     "output_type": "display_data"
    },
    {
     "name": "stdout",
     "output_type": "stream",
     "text": [
      "Epoch 10/40 - Train Loss: 0.0858, Train Acc: 23.66% | Test Loss: 0.0854, Test Acc: 24.47%\n",
      "Epoch 20/40 - Train Loss: 0.0832, Train Acc: 29.28% | Test Loss: 0.0829, Test Acc: 30.60%\n",
      "Epoch 30/40 - Train Loss: 0.0814, Train Acc: 33.51% | Test Loss: 0.0811, Test Acc: 34.03%\n",
      "Epoch 40/40 - Train Loss: 0.0802, Train Acc: 35.93% | Test Loss: 0.0800, Test Acc: 36.14%\n",
      "Model saved: saved_models\\model_lr=0.01_activation=Tanh_loss=MSE.pth\n"
     ]
    },
    {
     "data": {
      "text/html": [],
      "text/plain": [
       "<IPython.core.display.HTML object>"
      ]
     },
     "metadata": {},
     "output_type": "display_data"
    },
    {
     "data": {
      "text/html": [
       "<br>    <style><br>        .wandb-row {<br>            display: flex;<br>            flex-direction: row;<br>            flex-wrap: wrap;<br>            justify-content: flex-start;<br>            width: 100%;<br>        }<br>        .wandb-col {<br>            display: flex;<br>            flex-direction: column;<br>            flex-basis: 100%;<br>            flex: 1;<br>            padding: 10px;<br>        }<br>    </style><br><div class=\"wandb-row\"><div class=\"wandb-col\"><h3>Run history:</h3><br/><table class=\"wandb\"><tr><td>epoch</td><td>▁▁▁▂▂▂▂▂▂▃▃▃▃▃▄▄▄▄▄▄▅▅▅▅▅▅▆▆▆▆▆▇▇▇▇▇▇███</td></tr><tr><td>test_accuracy</td><td>▁▂▃▃▃▄▄▄▄▄▅▅▅▅▅▆▆▆▆▆▆▇▇▇▇▇▇▇▇▇▇█████████</td></tr><tr><td>test_loss</td><td>██▇▇▇▆▆▆▅▅▅▄▄▄▄▄▄▃▃▃▃▃▃▃▂▂▂▂▂▂▂▂▂▁▁▁▁▁▁▁</td></tr><tr><td>train_accuracy</td><td>▁▂▃▃▃▄▄▄▄▅▅▅▅▅▅▆▆▆▆▆▆▆▆▇▇▇▇▇▇▇▇▇████████</td></tr><tr><td>train_loss</td><td>█▆▆▆▆▅▅▅▄▄▄▄▄▃▃▃▃▃▃▃▃▂▂▂▂▂▂▂▂▂▂▂▁▁▁▁▁▁▁▁</td></tr></table><br/></div><div class=\"wandb-col\"><h3>Run summary:</h3><br/><table class=\"wandb\"><tr><td>epoch</td><td>40</td></tr><tr><td>test_accuracy</td><td>36.14</td></tr><tr><td>test_loss</td><td>0.08002</td></tr><tr><td>train_accuracy</td><td>35.93</td></tr><tr><td>train_loss</td><td>0.08024</td></tr></table><br/></div></div>"
      ],
      "text/plain": [
       "<IPython.core.display.HTML object>"
      ]
     },
     "metadata": {},
     "output_type": "display_data"
    },
    {
     "data": {
      "text/html": [
       " View run <strong style=\"color:#cdcd00\">LR=0.01, Activation=Tanh, Loss=MSE</strong> at: <a href='https://wandb.ai/saeah-portland-state-university/cs540-programming2/runs/4z09j8vi' target=\"_blank\">https://wandb.ai/saeah-portland-state-university/cs540-programming2/runs/4z09j8vi</a><br> View project at: <a href='https://wandb.ai/saeah-portland-state-university/cs540-programming2' target=\"_blank\">https://wandb.ai/saeah-portland-state-university/cs540-programming2</a><br>Synced 5 W&B file(s), 0 media file(s), 0 artifact file(s) and 0 other file(s)"
      ],
      "text/plain": [
       "<IPython.core.display.HTML object>"
      ]
     },
     "metadata": {},
     "output_type": "display_data"
    },
    {
     "data": {
      "text/html": [
       "Find logs at: <code>.\\wandb\\run-20250203_044322-4z09j8vi\\logs</code>"
      ],
      "text/plain": [
       "<IPython.core.display.HTML object>"
      ]
     },
     "metadata": {},
     "output_type": "display_data"
    },
    {
     "name": "stdout",
     "output_type": "stream",
     "text": [
      "Finishing wandb run...\n",
      "Initializing wandb run: LR=0.01, Activation=Tanh, Loss=CrossEntropy\n"
     ]
    },
    {
     "data": {
      "text/html": [
       "Tracking run with wandb version 0.19.4"
      ],
      "text/plain": [
       "<IPython.core.display.HTML object>"
      ]
     },
     "metadata": {},
     "output_type": "display_data"
    },
    {
     "data": {
      "text/html": [
       "Run data is saved locally in <code>C:\\Users\\Saeah Go\\Desktop\\CS540 Deep Learning\\wandb\\run-20250203_050115-lievxkps</code>"
      ],
      "text/plain": [
       "<IPython.core.display.HTML object>"
      ]
     },
     "metadata": {},
     "output_type": "display_data"
    },
    {
     "data": {
      "text/html": [
       "Syncing run <strong><a href='https://wandb.ai/saeah-portland-state-university/cs540-programming2/runs/lievxkps' target=\"_blank\">LR=0.01, Activation=Tanh, Loss=CrossEntropy</a></strong> to <a href='https://wandb.ai/saeah-portland-state-university/cs540-programming2' target=\"_blank\">Weights & Biases</a> (<a href='https://wandb.me/developer-guide' target=\"_blank\">docs</a>)<br>"
      ],
      "text/plain": [
       "<IPython.core.display.HTML object>"
      ]
     },
     "metadata": {},
     "output_type": "display_data"
    },
    {
     "data": {
      "text/html": [
       " View project at <a href='https://wandb.ai/saeah-portland-state-university/cs540-programming2' target=\"_blank\">https://wandb.ai/saeah-portland-state-university/cs540-programming2</a>"
      ],
      "text/plain": [
       "<IPython.core.display.HTML object>"
      ]
     },
     "metadata": {},
     "output_type": "display_data"
    },
    {
     "data": {
      "text/html": [
       " View run at <a href='https://wandb.ai/saeah-portland-state-university/cs540-programming2/runs/lievxkps' target=\"_blank\">https://wandb.ai/saeah-portland-state-university/cs540-programming2/runs/lievxkps</a>"
      ],
      "text/plain": [
       "<IPython.core.display.HTML object>"
      ]
     },
     "metadata": {},
     "output_type": "display_data"
    },
    {
     "name": "stdout",
     "output_type": "stream",
     "text": [
      "Epoch 10/40 - Train Loss: 1.6714, Train Acc: 39.47% | Test Loss: 1.6501, Test Acc: 39.79%\n",
      "Epoch 20/40 - Train Loss: 1.4136, Train Acc: 49.06% | Test Loss: 1.4162, Test Acc: 48.60%\n",
      "Epoch 30/40 - Train Loss: 1.2625, Train Acc: 54.92% | Test Loss: 1.2799, Test Acc: 54.30%\n",
      "Epoch 40/40 - Train Loss: 1.1692, Train Acc: 58.61% | Test Loss: 1.2142, Test Acc: 57.28%\n",
      "Model saved: saved_models\\model_lr=0.01_activation=Tanh_loss=CrossEntropy.pth\n"
     ]
    },
    {
     "data": {
      "text/html": [],
      "text/plain": [
       "<IPython.core.display.HTML object>"
      ]
     },
     "metadata": {},
     "output_type": "display_data"
    },
    {
     "data": {
      "text/html": [
       "<br>    <style><br>        .wandb-row {<br>            display: flex;<br>            flex-direction: row;<br>            flex-wrap: wrap;<br>            justify-content: flex-start;<br>            width: 100%;<br>        }<br>        .wandb-col {<br>            display: flex;<br>            flex-direction: column;<br>            flex-basis: 100%;<br>            flex: 1;<br>            padding: 10px;<br>        }<br>    </style><br><div class=\"wandb-row\"><div class=\"wandb-col\"><h3>Run history:</h3><br/><table class=\"wandb\"><tr><td>epoch</td><td>▁▁▁▂▂▂▂▂▂▃▃▃▃▃▄▄▄▄▄▄▅▅▅▅▅▅▆▆▆▆▆▇▇▇▇▇▇███</td></tr><tr><td>test_accuracy</td><td>▁▃▃▄▄▄▅▅▅▅▅▆▆▆▆▆▆▆▇▇▇▇▇▇▇▇▇▇▇▇█▇████████</td></tr><tr><td>test_loss</td><td>█▇▆▅▅▅▅▄▄▄▄▄▃▃▃▃▃▃▃▂▂▂▂▂▂▂▂▂▂▁▁▁▁▁▁▂▁▁▁▁</td></tr><tr><td>train_accuracy</td><td>▁▂▃▄▄▄▄▅▅▅▅▅▆▆▆▆▆▆▆▇▇▇▇▇▇▇▇▇▇▇▇█████████</td></tr><tr><td>train_loss</td><td>██▇▆▅▅▅▅▄▄▄▄▄▃▃▃▃▃▃▃▂▂▂▂▂▂▂▂▂▂▂▁▁▁▁▁▁▁▁▁</td></tr></table><br/></div><div class=\"wandb-col\"><h3>Run summary:</h3><br/><table class=\"wandb\"><tr><td>epoch</td><td>40</td></tr><tr><td>test_accuracy</td><td>57.28</td></tr><tr><td>test_loss</td><td>1.21424</td></tr><tr><td>train_accuracy</td><td>58.61</td></tr><tr><td>train_loss</td><td>1.16921</td></tr></table><br/></div></div>"
      ],
      "text/plain": [
       "<IPython.core.display.HTML object>"
      ]
     },
     "metadata": {},
     "output_type": "display_data"
    },
    {
     "data": {
      "text/html": [
       " View run <strong style=\"color:#cdcd00\">LR=0.01, Activation=Tanh, Loss=CrossEntropy</strong> at: <a href='https://wandb.ai/saeah-portland-state-university/cs540-programming2/runs/lievxkps' target=\"_blank\">https://wandb.ai/saeah-portland-state-university/cs540-programming2/runs/lievxkps</a><br> View project at: <a href='https://wandb.ai/saeah-portland-state-university/cs540-programming2' target=\"_blank\">https://wandb.ai/saeah-portland-state-university/cs540-programming2</a><br>Synced 5 W&B file(s), 0 media file(s), 0 artifact file(s) and 0 other file(s)"
      ],
      "text/plain": [
       "<IPython.core.display.HTML object>"
      ]
     },
     "metadata": {},
     "output_type": "display_data"
    },
    {
     "data": {
      "text/html": [
       "Find logs at: <code>.\\wandb\\run-20250203_050115-lievxkps\\logs</code>"
      ],
      "text/plain": [
       "<IPython.core.display.HTML object>"
      ]
     },
     "metadata": {},
     "output_type": "display_data"
    },
    {
     "name": "stdout",
     "output_type": "stream",
     "text": [
      "Finishing wandb run...\n",
      "Initializing wandb run: LR=0.001, Activation=Sigmoid, Loss=MSE\n"
     ]
    },
    {
     "data": {
      "text/html": [
       "Tracking run with wandb version 0.19.4"
      ],
      "text/plain": [
       "<IPython.core.display.HTML object>"
      ]
     },
     "metadata": {},
     "output_type": "display_data"
    },
    {
     "data": {
      "text/html": [
       "Run data is saved locally in <code>C:\\Users\\Saeah Go\\Desktop\\CS540 Deep Learning\\wandb\\run-20250203_051842-pma7x89g</code>"
      ],
      "text/plain": [
       "<IPython.core.display.HTML object>"
      ]
     },
     "metadata": {},
     "output_type": "display_data"
    },
    {
     "data": {
      "text/html": [
       "Syncing run <strong><a href='https://wandb.ai/saeah-portland-state-university/cs540-programming2/runs/pma7x89g' target=\"_blank\">LR=0.001, Activation=Sigmoid, Loss=MSE</a></strong> to <a href='https://wandb.ai/saeah-portland-state-university/cs540-programming2' target=\"_blank\">Weights & Biases</a> (<a href='https://wandb.me/developer-guide' target=\"_blank\">docs</a>)<br>"
      ],
      "text/plain": [
       "<IPython.core.display.HTML object>"
      ]
     },
     "metadata": {},
     "output_type": "display_data"
    },
    {
     "data": {
      "text/html": [
       " View project at <a href='https://wandb.ai/saeah-portland-state-university/cs540-programming2' target=\"_blank\">https://wandb.ai/saeah-portland-state-university/cs540-programming2</a>"
      ],
      "text/plain": [
       "<IPython.core.display.HTML object>"
      ]
     },
     "metadata": {},
     "output_type": "display_data"
    },
    {
     "data": {
      "text/html": [
       " View run at <a href='https://wandb.ai/saeah-portland-state-university/cs540-programming2/runs/pma7x89g' target=\"_blank\">https://wandb.ai/saeah-portland-state-university/cs540-programming2/runs/pma7x89g</a>"
      ],
      "text/plain": [
       "<IPython.core.display.HTML object>"
      ]
     },
     "metadata": {},
     "output_type": "display_data"
    },
    {
     "name": "stdout",
     "output_type": "stream",
     "text": [
      "Epoch 10/40 - Train Loss: 0.0900, Train Acc: 9.70% | Test Loss: 0.0900, Test Acc: 9.97%\n",
      "Epoch 20/40 - Train Loss: 0.0900, Train Acc: 9.91% | Test Loss: 0.0900, Test Acc: 10.00%\n",
      "Epoch 30/40 - Train Loss: 0.0900, Train Acc: 9.72% | Test Loss: 0.0900, Test Acc: 10.00%\n",
      "Epoch 40/40 - Train Loss: 0.0900, Train Acc: 9.98% | Test Loss: 0.0900, Test Acc: 9.95%\n",
      "Model saved: saved_models\\model_lr=0.001_activation=Sigmoid_loss=MSE.pth\n"
     ]
    },
    {
     "data": {
      "text/html": [],
      "text/plain": [
       "<IPython.core.display.HTML object>"
      ]
     },
     "metadata": {},
     "output_type": "display_data"
    },
    {
     "data": {
      "text/html": [
       "<br>    <style><br>        .wandb-row {<br>            display: flex;<br>            flex-direction: row;<br>            flex-wrap: wrap;<br>            justify-content: flex-start;<br>            width: 100%;<br>        }<br>        .wandb-col {<br>            display: flex;<br>            flex-direction: column;<br>            flex-basis: 100%;<br>            flex: 1;<br>            padding: 10px;<br>        }<br>    </style><br><div class=\"wandb-row\"><div class=\"wandb-col\"><h3>Run history:</h3><br/><table class=\"wandb\"><tr><td>epoch</td><td>▁▁▁▂▂▂▂▂▂▃▃▃▃▃▄▄▄▄▄▄▅▅▅▅▅▅▆▆▆▆▆▇▇▇▇▇▇███</td></tr><tr><td>test_accuracy</td><td>▅▅▁█▅▅▅▇▅▅▅▅▅▅▆▅▅▅▅▅▅▅▆▄▄▅▅▅▅▅▅▅▅▅▇▆▅▅▅▄</td></tr><tr><td>test_loss</td><td>█▁▁▁▁▁▁▁▁▁▁▁▁▁▁▁▁▁▁▁▁▁▁▁▁▁▁▁▁▁▁▁▁▁▁▁▁▁▁▁</td></tr><tr><td>train_accuracy</td><td>██▇▅▂▆▄▄▇▄▃▆▄▁▂▆▆▆▇▇▅▅▆▅▅▇▅▇▄▄▇▅▆▆▆▅█▃▇█</td></tr><tr><td>train_loss</td><td>█▁▁▁▁▁▁▁▁▁▁▁▁▁▁▁▁▁▁▁▁▁▁▁▁▁▁▁▁▁▁▁▁▁▁▁▁▁▁▁</td></tr></table><br/></div><div class=\"wandb-col\"><h3>Run summary:</h3><br/><table class=\"wandb\"><tr><td>epoch</td><td>40</td></tr><tr><td>test_accuracy</td><td>9.95</td></tr><tr><td>test_loss</td><td>0.09</td></tr><tr><td>train_accuracy</td><td>9.984</td></tr><tr><td>train_loss</td><td>0.09</td></tr></table><br/></div></div>"
      ],
      "text/plain": [
       "<IPython.core.display.HTML object>"
      ]
     },
     "metadata": {},
     "output_type": "display_data"
    },
    {
     "data": {
      "text/html": [
       " View run <strong style=\"color:#cdcd00\">LR=0.001, Activation=Sigmoid, Loss=MSE</strong> at: <a href='https://wandb.ai/saeah-portland-state-university/cs540-programming2/runs/pma7x89g' target=\"_blank\">https://wandb.ai/saeah-portland-state-university/cs540-programming2/runs/pma7x89g</a><br> View project at: <a href='https://wandb.ai/saeah-portland-state-university/cs540-programming2' target=\"_blank\">https://wandb.ai/saeah-portland-state-university/cs540-programming2</a><br>Synced 5 W&B file(s), 0 media file(s), 0 artifact file(s) and 0 other file(s)"
      ],
      "text/plain": [
       "<IPython.core.display.HTML object>"
      ]
     },
     "metadata": {},
     "output_type": "display_data"
    },
    {
     "data": {
      "text/html": [
       "Find logs at: <code>.\\wandb\\run-20250203_051842-pma7x89g\\logs</code>"
      ],
      "text/plain": [
       "<IPython.core.display.HTML object>"
      ]
     },
     "metadata": {},
     "output_type": "display_data"
    },
    {
     "name": "stdout",
     "output_type": "stream",
     "text": [
      "Finishing wandb run...\n",
      "Initializing wandb run: LR=0.001, Activation=Sigmoid, Loss=CrossEntropy\n"
     ]
    },
    {
     "data": {
      "text/html": [
       "Tracking run with wandb version 0.19.4"
      ],
      "text/plain": [
       "<IPython.core.display.HTML object>"
      ]
     },
     "metadata": {},
     "output_type": "display_data"
    },
    {
     "data": {
      "text/html": [
       "Run data is saved locally in <code>C:\\Users\\Saeah Go\\Desktop\\CS540 Deep Learning\\wandb\\run-20250203_053457-yyeqj4j6</code>"
      ],
      "text/plain": [
       "<IPython.core.display.HTML object>"
      ]
     },
     "metadata": {},
     "output_type": "display_data"
    },
    {
     "data": {
      "text/html": [
       "Syncing run <strong><a href='https://wandb.ai/saeah-portland-state-university/cs540-programming2/runs/yyeqj4j6' target=\"_blank\">LR=0.001, Activation=Sigmoid, Loss=CrossEntropy</a></strong> to <a href='https://wandb.ai/saeah-portland-state-university/cs540-programming2' target=\"_blank\">Weights & Biases</a> (<a href='https://wandb.me/developer-guide' target=\"_blank\">docs</a>)<br>"
      ],
      "text/plain": [
       "<IPython.core.display.HTML object>"
      ]
     },
     "metadata": {},
     "output_type": "display_data"
    },
    {
     "data": {
      "text/html": [
       " View project at <a href='https://wandb.ai/saeah-portland-state-university/cs540-programming2' target=\"_blank\">https://wandb.ai/saeah-portland-state-university/cs540-programming2</a>"
      ],
      "text/plain": [
       "<IPython.core.display.HTML object>"
      ]
     },
     "metadata": {},
     "output_type": "display_data"
    },
    {
     "data": {
      "text/html": [
       " View run at <a href='https://wandb.ai/saeah-portland-state-university/cs540-programming2/runs/yyeqj4j6' target=\"_blank\">https://wandb.ai/saeah-portland-state-university/cs540-programming2/runs/yyeqj4j6</a>"
      ],
      "text/plain": [
       "<IPython.core.display.HTML object>"
      ]
     },
     "metadata": {},
     "output_type": "display_data"
    },
    {
     "name": "stdout",
     "output_type": "stream",
     "text": [
      "Epoch 10/40 - Train Loss: 2.3027, Train Acc: 9.99% | Test Loss: 2.3026, Test Acc: 10.00%\n",
      "Epoch 20/40 - Train Loss: 2.3027, Train Acc: 9.69% | Test Loss: 2.3026, Test Acc: 10.00%\n",
      "Epoch 30/40 - Train Loss: 2.3027, Train Acc: 9.83% | Test Loss: 2.3026, Test Acc: 10.00%\n",
      "Epoch 40/40 - Train Loss: 2.3027, Train Acc: 9.72% | Test Loss: 2.3026, Test Acc: 10.00%\n",
      "Model saved: saved_models\\model_lr=0.001_activation=Sigmoid_loss=CrossEntropy.pth\n"
     ]
    },
    {
     "data": {
      "text/html": [],
      "text/plain": [
       "<IPython.core.display.HTML object>"
      ]
     },
     "metadata": {},
     "output_type": "display_data"
    },
    {
     "data": {
      "text/html": [
       "<br>    <style><br>        .wandb-row {<br>            display: flex;<br>            flex-direction: row;<br>            flex-wrap: wrap;<br>            justify-content: flex-start;<br>            width: 100%;<br>        }<br>        .wandb-col {<br>            display: flex;<br>            flex-direction: column;<br>            flex-basis: 100%;<br>            flex: 1;<br>            padding: 10px;<br>        }<br>    </style><br><div class=\"wandb-row\"><div class=\"wandb-col\"><h3>Run history:</h3><br/><table class=\"wandb\"><tr><td>epoch</td><td>▁▁▁▂▂▂▂▂▂▃▃▃▃▃▄▄▄▄▄▄▅▅▅▅▅▅▆▆▆▆▆▇▇▇▇▇▇███</td></tr><tr><td>test_accuracy</td><td>████▇█████████████████▁█████████████████</td></tr><tr><td>test_loss</td><td>█▂▁▁▁▁▁▁▁▁▁▁▁▁▁▁▁▁▁▁▁▁▁▁▁▁▁▁▁▁▁▁▁▁▁▁▁▁▁▁</td></tr><tr><td>train_accuracy</td><td>███▇▆▂▁▄▄█▃▆▆▇▃▄▄▆▄▄▄█▅▂▅▁▄▅▆▆▄▅▆▇▅▅▃▇▅▄</td></tr><tr><td>train_loss</td><td>█▂▁▁▁▁▁▁▁▁▁▁▁▁▁▁▁▁▁▁▁▁▁▁▁▁▁▁▁▁▁▁▁▁▁▁▁▁▁▁</td></tr></table><br/></div><div class=\"wandb-col\"><h3>Run summary:</h3><br/><table class=\"wandb\"><tr><td>epoch</td><td>40</td></tr><tr><td>test_accuracy</td><td>10</td></tr><tr><td>test_loss</td><td>2.30259</td></tr><tr><td>train_accuracy</td><td>9.72</td></tr><tr><td>train_loss</td><td>2.30266</td></tr></table><br/></div></div>"
      ],
      "text/plain": [
       "<IPython.core.display.HTML object>"
      ]
     },
     "metadata": {},
     "output_type": "display_data"
    },
    {
     "data": {
      "text/html": [
       " View run <strong style=\"color:#cdcd00\">LR=0.001, Activation=Sigmoid, Loss=CrossEntropy</strong> at: <a href='https://wandb.ai/saeah-portland-state-university/cs540-programming2/runs/yyeqj4j6' target=\"_blank\">https://wandb.ai/saeah-portland-state-university/cs540-programming2/runs/yyeqj4j6</a><br> View project at: <a href='https://wandb.ai/saeah-portland-state-university/cs540-programming2' target=\"_blank\">https://wandb.ai/saeah-portland-state-university/cs540-programming2</a><br>Synced 5 W&B file(s), 0 media file(s), 0 artifact file(s) and 0 other file(s)"
      ],
      "text/plain": [
       "<IPython.core.display.HTML object>"
      ]
     },
     "metadata": {},
     "output_type": "display_data"
    },
    {
     "data": {
      "text/html": [
       "Find logs at: <code>.\\wandb\\run-20250203_053457-yyeqj4j6\\logs</code>"
      ],
      "text/plain": [
       "<IPython.core.display.HTML object>"
      ]
     },
     "metadata": {},
     "output_type": "display_data"
    },
    {
     "name": "stdout",
     "output_type": "stream",
     "text": [
      "Finishing wandb run...\n",
      "Initializing wandb run: LR=0.001, Activation=Tanh, Loss=MSE\n"
     ]
    },
    {
     "data": {
      "text/html": [
       "Tracking run with wandb version 0.19.4"
      ],
      "text/plain": [
       "<IPython.core.display.HTML object>"
      ]
     },
     "metadata": {},
     "output_type": "display_data"
    },
    {
     "data": {
      "text/html": [
       "Run data is saved locally in <code>C:\\Users\\Saeah Go\\Desktop\\CS540 Deep Learning\\wandb\\run-20250203_055103-w1dc4x8f</code>"
      ],
      "text/plain": [
       "<IPython.core.display.HTML object>"
      ]
     },
     "metadata": {},
     "output_type": "display_data"
    },
    {
     "data": {
      "text/html": [
       "Syncing run <strong><a href='https://wandb.ai/saeah-portland-state-university/cs540-programming2/runs/w1dc4x8f' target=\"_blank\">LR=0.001, Activation=Tanh, Loss=MSE</a></strong> to <a href='https://wandb.ai/saeah-portland-state-university/cs540-programming2' target=\"_blank\">Weights & Biases</a> (<a href='https://wandb.me/developer-guide' target=\"_blank\">docs</a>)<br>"
      ],
      "text/plain": [
       "<IPython.core.display.HTML object>"
      ]
     },
     "metadata": {},
     "output_type": "display_data"
    },
    {
     "data": {
      "text/html": [
       " View project at <a href='https://wandb.ai/saeah-portland-state-university/cs540-programming2' target=\"_blank\">https://wandb.ai/saeah-portland-state-university/cs540-programming2</a>"
      ],
      "text/plain": [
       "<IPython.core.display.HTML object>"
      ]
     },
     "metadata": {},
     "output_type": "display_data"
    },
    {
     "data": {
      "text/html": [
       " View run at <a href='https://wandb.ai/saeah-portland-state-university/cs540-programming2/runs/w1dc4x8f' target=\"_blank\">https://wandb.ai/saeah-portland-state-university/cs540-programming2/runs/w1dc4x8f</a>"
      ],
      "text/plain": [
       "<IPython.core.display.HTML object>"
      ]
     },
     "metadata": {},
     "output_type": "display_data"
    },
    {
     "name": "stdout",
     "output_type": "stream",
     "text": [
      "Epoch 10/40 - Train Loss: 0.0900, Train Acc: 12.55% | Test Loss: 0.0900, Test Acc: 13.18%\n",
      "Epoch 20/40 - Train Loss: 0.0897, Train Acc: 15.35% | Test Loss: 0.0897, Test Acc: 15.59%\n",
      "Epoch 30/40 - Train Loss: 0.0895, Train Acc: 17.26% | Test Loss: 0.0895, Test Acc: 17.43%\n",
      "Epoch 40/40 - Train Loss: 0.0892, Train Acc: 18.64% | Test Loss: 0.0892, Test Acc: 18.68%\n",
      "Model saved: saved_models\\model_lr=0.001_activation=Tanh_loss=MSE.pth\n"
     ]
    },
    {
     "data": {
      "text/html": [],
      "text/plain": [
       "<IPython.core.display.HTML object>"
      ]
     },
     "metadata": {},
     "output_type": "display_data"
    },
    {
     "data": {
      "text/html": [
       "<br>    <style><br>        .wandb-row {<br>            display: flex;<br>            flex-direction: row;<br>            flex-wrap: wrap;<br>            justify-content: flex-start;<br>            width: 100%;<br>        }<br>        .wandb-col {<br>            display: flex;<br>            flex-direction: column;<br>            flex-basis: 100%;<br>            flex: 1;<br>            padding: 10px;<br>        }<br>    </style><br><div class=\"wandb-row\"><div class=\"wandb-col\"><h3>Run history:</h3><br/><table class=\"wandb\"><tr><td>epoch</td><td>▁▁▁▂▂▂▂▂▂▃▃▃▃▃▄▄▄▄▄▄▅▅▅▅▅▅▆▆▆▆▆▇▇▇▇▇▇███</td></tr><tr><td>test_accuracy</td><td>▁▁▁▂▂▂▂▃▃▃▄▄▄▄▄▅▅▅▅▅▅▆▆▆▆▆▇▇▇▇▇▇▇▇▇█████</td></tr><tr><td>test_loss</td><td>█▅▄▃▂▂▂▂▁▁▁▁▁▁▁▁▁▁▁▁▁▁▁▁▁▁▁▁▁▁▁▁▁▁▁▁▁▁▁▁</td></tr><tr><td>train_accuracy</td><td>▁▁▁▁▂▂▂▂▃▃▃▄▄▄▄▅▅▅▅▅▅▆▆▆▆▆▆▇▇▇▇▇▇▇▇█████</td></tr><tr><td>train_loss</td><td>█▅▃▃▂▂▂▁▁▁▁▁▁▁▁▁▁▁▁▁▁▁▁▁▁▁▁▁▁▁▁▁▁▁▁▁▁▁▁▁</td></tr></table><br/></div><div class=\"wandb-col\"><h3>Run summary:</h3><br/><table class=\"wandb\"><tr><td>epoch</td><td>40</td></tr><tr><td>test_accuracy</td><td>18.68</td></tr><tr><td>test_loss</td><td>0.08918</td></tr><tr><td>train_accuracy</td><td>18.636</td></tr><tr><td>train_loss</td><td>0.0892</td></tr></table><br/></div></div>"
      ],
      "text/plain": [
       "<IPython.core.display.HTML object>"
      ]
     },
     "metadata": {},
     "output_type": "display_data"
    },
    {
     "data": {
      "text/html": [
       " View run <strong style=\"color:#cdcd00\">LR=0.001, Activation=Tanh, Loss=MSE</strong> at: <a href='https://wandb.ai/saeah-portland-state-university/cs540-programming2/runs/w1dc4x8f' target=\"_blank\">https://wandb.ai/saeah-portland-state-university/cs540-programming2/runs/w1dc4x8f</a><br> View project at: <a href='https://wandb.ai/saeah-portland-state-university/cs540-programming2' target=\"_blank\">https://wandb.ai/saeah-portland-state-university/cs540-programming2</a><br>Synced 5 W&B file(s), 0 media file(s), 0 artifact file(s) and 0 other file(s)"
      ],
      "text/plain": [
       "<IPython.core.display.HTML object>"
      ]
     },
     "metadata": {},
     "output_type": "display_data"
    },
    {
     "data": {
      "text/html": [
       "Find logs at: <code>.\\wandb\\run-20250203_055103-w1dc4x8f\\logs</code>"
      ],
      "text/plain": [
       "<IPython.core.display.HTML object>"
      ]
     },
     "metadata": {},
     "output_type": "display_data"
    },
    {
     "name": "stdout",
     "output_type": "stream",
     "text": [
      "Finishing wandb run...\n",
      "Initializing wandb run: LR=0.001, Activation=Tanh, Loss=CrossEntropy\n"
     ]
    },
    {
     "data": {
      "text/html": [
       "Tracking run with wandb version 0.19.4"
      ],
      "text/plain": [
       "<IPython.core.display.HTML object>"
      ]
     },
     "metadata": {},
     "output_type": "display_data"
    },
    {
     "data": {
      "text/html": [
       "Run data is saved locally in <code>C:\\Users\\Saeah Go\\Desktop\\CS540 Deep Learning\\wandb\\run-20250203_060722-pk4q8i6c</code>"
      ],
      "text/plain": [
       "<IPython.core.display.HTML object>"
      ]
     },
     "metadata": {},
     "output_type": "display_data"
    },
    {
     "data": {
      "text/html": [
       "Syncing run <strong><a href='https://wandb.ai/saeah-portland-state-university/cs540-programming2/runs/pk4q8i6c' target=\"_blank\">LR=0.001, Activation=Tanh, Loss=CrossEntropy</a></strong> to <a href='https://wandb.ai/saeah-portland-state-university/cs540-programming2' target=\"_blank\">Weights & Biases</a> (<a href='https://wandb.me/developer-guide' target=\"_blank\">docs</a>)<br>"
      ],
      "text/plain": [
       "<IPython.core.display.HTML object>"
      ]
     },
     "metadata": {},
     "output_type": "display_data"
    },
    {
     "data": {
      "text/html": [
       " View project at <a href='https://wandb.ai/saeah-portland-state-university/cs540-programming2' target=\"_blank\">https://wandb.ai/saeah-portland-state-university/cs540-programming2</a>"
      ],
      "text/plain": [
       "<IPython.core.display.HTML object>"
      ]
     },
     "metadata": {},
     "output_type": "display_data"
    },
    {
     "data": {
      "text/html": [
       " View run at <a href='https://wandb.ai/saeah-portland-state-university/cs540-programming2/runs/pk4q8i6c' target=\"_blank\">https://wandb.ai/saeah-portland-state-university/cs540-programming2/runs/pk4q8i6c</a>"
      ],
      "text/plain": [
       "<IPython.core.display.HTML object>"
      ]
     },
     "metadata": {},
     "output_type": "display_data"
    },
    {
     "name": "stdout",
     "output_type": "stream",
     "text": [
      "Epoch 10/40 - Train Loss: 2.2865, Train Acc: 11.74% | Test Loss: 2.2845, Test Acc: 11.67%\n",
      "Epoch 20/40 - Train Loss: 2.1143, Train Acc: 19.53% | Test Loss: 2.1058, Test Acc: 19.66%\n",
      "Epoch 30/40 - Train Loss: 2.0530, Train Acc: 22.96% | Test Loss: 2.0480, Test Acc: 23.59%\n",
      "Epoch 40/40 - Train Loss: 2.0127, Train Acc: 25.51% | Test Loss: 2.0071, Test Acc: 25.73%\n",
      "Model saved: saved_models\\model_lr=0.001_activation=Tanh_loss=CrossEntropy.pth\n"
     ]
    },
    {
     "data": {
      "text/html": [],
      "text/plain": [
       "<IPython.core.display.HTML object>"
      ]
     },
     "metadata": {},
     "output_type": "display_data"
    },
    {
     "data": {
      "text/html": [
       "<br>    <style><br>        .wandb-row {<br>            display: flex;<br>            flex-direction: row;<br>            flex-wrap: wrap;<br>            justify-content: flex-start;<br>            width: 100%;<br>        }<br>        .wandb-col {<br>            display: flex;<br>            flex-direction: column;<br>            flex-basis: 100%;<br>            flex: 1;<br>            padding: 10px;<br>        }<br>    </style><br><div class=\"wandb-row\"><div class=\"wandb-col\"><h3>Run history:</h3><br/><table class=\"wandb\"><tr><td>epoch</td><td>▁▁▁▂▂▂▂▂▂▃▃▃▃▃▄▄▄▄▄▄▅▅▅▅▅▅▆▆▆▆▆▇▇▇▇▇▇███</td></tr><tr><td>test_accuracy</td><td>▁▁▃▃▃▂▂▂▂▂▂▃▄▅▆▆▅▅▅▅▅▆▆▆▆▆▇▇▇▇▇▇▇▇██████</td></tr><tr><td>test_loss</td><td>██████████▇▇▇▇▆▆▅▄▄▃▃▃▃▃▂▂▂▂▂▂▂▂▂▂▂▁▁▁▁▁</td></tr><tr><td>train_accuracy</td><td>▁▁▂▃▃▂▂▂▂▂▂▂▃▄▅▆▅▅▅▅▅▆▆▆▆▆▆▇▇▇▇▇▇▇██████</td></tr><tr><td>train_loss</td><td>██████████▇▇▇▇▇▆▅▅▄▃▃▃▃▃▂▂▂▂▂▂▂▂▂▂▁▁▁▁▁▁</td></tr></table><br/></div><div class=\"wandb-col\"><h3>Run summary:</h3><br/><table class=\"wandb\"><tr><td>epoch</td><td>40</td></tr><tr><td>test_accuracy</td><td>25.73</td></tr><tr><td>test_loss</td><td>2.00707</td></tr><tr><td>train_accuracy</td><td>25.512</td></tr><tr><td>train_loss</td><td>2.01273</td></tr></table><br/></div></div>"
      ],
      "text/plain": [
       "<IPython.core.display.HTML object>"
      ]
     },
     "metadata": {},
     "output_type": "display_data"
    },
    {
     "data": {
      "text/html": [
       " View run <strong style=\"color:#cdcd00\">LR=0.001, Activation=Tanh, Loss=CrossEntropy</strong> at: <a href='https://wandb.ai/saeah-portland-state-university/cs540-programming2/runs/pk4q8i6c' target=\"_blank\">https://wandb.ai/saeah-portland-state-university/cs540-programming2/runs/pk4q8i6c</a><br> View project at: <a href='https://wandb.ai/saeah-portland-state-university/cs540-programming2' target=\"_blank\">https://wandb.ai/saeah-portland-state-university/cs540-programming2</a><br>Synced 5 W&B file(s), 0 media file(s), 0 artifact file(s) and 0 other file(s)"
      ],
      "text/plain": [
       "<IPython.core.display.HTML object>"
      ]
     },
     "metadata": {},
     "output_type": "display_data"
    },
    {
     "data": {
      "text/html": [
       "Find logs at: <code>.\\wandb\\run-20250203_060722-pk4q8i6c\\logs</code>"
      ],
      "text/plain": [
       "<IPython.core.display.HTML object>"
      ]
     },
     "metadata": {},
     "output_type": "display_data"
    },
    {
     "name": "stdout",
     "output_type": "stream",
     "text": [
      "Finishing wandb run...\n"
     ]
    }
   ],
   "source": [
    "# Hyperparameters\n",
    "learning_rates = [0.1, 0.01, 0.001] \n",
    "activation_functions = [nn.Sigmoid, nn.Tanh] \n",
    "loss_functions = {\"MSE\": nn.MSELoss(), \"CrossEntropy\": nn.CrossEntropyLoss()} \n",
    "\n",
    "# Run experiments\n",
    "for lr in learning_rates:\n",
    "    for activation_fn in activation_functions:\n",
    "        for loss_name, loss_fn in loss_functions.items():\n",
    "            run_experiment(lr, activation_fn, loss_name, loss_fn)"
   ]
  },
  {
   "cell_type": "markdown",
   "id": "063a4b6f",
   "metadata": {},
   "source": [
    "# Q1 b \n",
    "Visualize feature maps using wandb"
   ]
  },
  {
   "cell_type": "code",
   "execution_count": 10,
   "id": "1fa77b26",
   "metadata": {},
   "outputs": [
    {
     "name": "stderr",
     "output_type": "stream",
     "text": [
      "C:\\Users\\Saeah Go\\AppData\\Local\\Temp\\ipykernel_28836\\2336507280.py:10: FutureWarning: You are using `torch.load` with `weights_only=False` (the current default value), which uses the default pickle module implicitly. It is possible to construct malicious pickle data which will execute arbitrary code during unpickling (See https://github.com/pytorch/pytorch/blob/main/SECURITY.md#untrusted-models for more details). In a future release, the default value for `weights_only` will be flipped to `True`. This limits the functions that could be executed during unpickling. Arbitrary objects will no longer be allowed to be loaded via this mode unless they are explicitly allowlisted by the user via `torch.serialization.add_safe_globals`. We recommend you start setting `weights_only=True` for any use case where you don't have full control of the loaded file. Please open an issue on GitHub for any issues related to this experimental feature.\n",
      "  model.load_state_dict(torch.load(model_filename))\n"
     ]
    },
    {
     "data": {
      "text/plain": [
       "LeNetCustom(\n",
       "  (features): Sequential(\n",
       "    (0): Conv2d(3, 6, kernel_size=(5, 5), stride=(1, 1))\n",
       "    (1): Tanh()\n",
       "    (2): MaxPool2d(kernel_size=2, stride=2, padding=0, dilation=1, ceil_mode=False)\n",
       "    (3): Conv2d(6, 16, kernel_size=(5, 5), stride=(1, 1))\n",
       "    (4): Tanh()\n",
       "    (5): MaxPool2d(kernel_size=2, stride=2, padding=0, dilation=1, ceil_mode=False)\n",
       "  )\n",
       "  (classifier): Sequential(\n",
       "    (0): Linear(in_features=400, out_features=120, bias=True)\n",
       "    (1): Tanh()\n",
       "    (2): Linear(in_features=120, out_features=84, bias=True)\n",
       "    (3): Tanh()\n",
       "    (4): Linear(in_features=84, out_features=10, bias=True)\n",
       "  )\n",
       ")"
      ]
     },
     "execution_count": 10,
     "metadata": {},
     "output_type": "execute_result"
    }
   ],
   "source": [
    "# Load the Model\n",
    "model_filename = \"saved_models/model_lr=0.01_activation=Tanh_loss=CrossEntropy.pth\"\n",
    "\n",
    "# Initialize model with the same architecture\n",
    "model = LeNetCustom(num_classes=10, activation_fn=nn.Tanh).to(device)\n",
    "\n",
    "# Load the saved model weights\n",
    "model.load_state_dict(torch.load(model_filename))\n",
    "model.eval()  # Set model to evaluation mode"
   ]
  },
  {
   "cell_type": "code",
   "execution_count": 11,
   "id": "0874ea0d",
   "metadata": {},
   "outputs": [],
   "source": [
    "# Select 10 images for feature map visualization\n",
    "sample_loader = DataLoader(test_dataset, batch_size=10, shuffle=True)\n",
    "images, _ = next(iter(sample_loader))\n",
    "\n",
    "# Move images to the same device as the model\n",
    "images = images.to(device)"
   ]
  },
  {
   "cell_type": "code",
   "execution_count": 12,
   "id": "522ef270",
   "metadata": {
    "scrolled": true
   },
   "outputs": [
    {
     "data": {
      "text/html": [
       "Tracking run with wandb version 0.19.4"
      ],
      "text/plain": [
       "<IPython.core.display.HTML object>"
      ]
     },
     "metadata": {},
     "output_type": "display_data"
    },
    {
     "data": {
      "text/html": [
       "Run data is saved locally in <code>C:\\Users\\Saeah Go\\Desktop\\CS540 Deep Learning\\wandb\\run-20250203_062340-ljgc30db</code>"
      ],
      "text/plain": [
       "<IPython.core.display.HTML object>"
      ]
     },
     "metadata": {},
     "output_type": "display_data"
    },
    {
     "data": {
      "text/html": [
       "Syncing run <strong><a href='https://wandb.ai/saeah-portland-state-university/cs540-programming2/runs/ljgc30db' target=\"_blank\">Q1b_Feature_Map_Visualization</a></strong> to <a href='https://wandb.ai/saeah-portland-state-university/cs540-programming2' target=\"_blank\">Weights & Biases</a> (<a href='https://wandb.me/developer-guide' target=\"_blank\">docs</a>)<br>"
      ],
      "text/plain": [
       "<IPython.core.display.HTML object>"
      ]
     },
     "metadata": {},
     "output_type": "display_data"
    },
    {
     "data": {
      "text/html": [
       " View project at <a href='https://wandb.ai/saeah-portland-state-university/cs540-programming2' target=\"_blank\">https://wandb.ai/saeah-portland-state-university/cs540-programming2</a>"
      ],
      "text/plain": [
       "<IPython.core.display.HTML object>"
      ]
     },
     "metadata": {},
     "output_type": "display_data"
    },
    {
     "data": {
      "text/html": [
       " View run at <a href='https://wandb.ai/saeah-portland-state-university/cs540-programming2/runs/ljgc30db' target=\"_blank\">https://wandb.ai/saeah-portland-state-university/cs540-programming2/runs/ljgc30db</a>"
      ],
      "text/plain": [
       "<IPython.core.display.HTML object>"
      ]
     },
     "metadata": {},
     "output_type": "display_data"
    },
    {
     "data": {
      "text/html": [],
      "text/plain": [
       "<IPython.core.display.HTML object>"
      ]
     },
     "metadata": {},
     "output_type": "display_data"
    },
    {
     "data": {
      "text/html": [
       " View run <strong style=\"color:#cdcd00\">Q1b_Feature_Map_Visualization</strong> at: <a href='https://wandb.ai/saeah-portland-state-university/cs540-programming2/runs/ljgc30db' target=\"_blank\">https://wandb.ai/saeah-portland-state-university/cs540-programming2/runs/ljgc30db</a><br> View project at: <a href='https://wandb.ai/saeah-portland-state-university/cs540-programming2' target=\"_blank\">https://wandb.ai/saeah-portland-state-university/cs540-programming2</a><br>Synced 5 W&B file(s), 10 media file(s), 0 artifact file(s) and 0 other file(s)"
      ],
      "text/plain": [
       "<IPython.core.display.HTML object>"
      ]
     },
     "metadata": {},
     "output_type": "display_data"
    },
    {
     "data": {
      "text/html": [
       "Find logs at: <code>.\\wandb\\run-20250203_062340-ljgc30db\\logs</code>"
      ],
      "text/plain": [
       "<IPython.core.display.HTML object>"
      ]
     },
     "metadata": {},
     "output_type": "display_data"
    }
   ],
   "source": [
    "# Extract and visualize feature maps\n",
    "\n",
    "# Initialize a new wandb run for visualization\n",
    "wandb.init(\n",
    "    entity=\"saeah-portland-state-university\",\n",
    "    project=\"cs540-programming2\",\n",
    "    name=\"Q1b_Feature_Map_Visualization\"\n",
    ")\n",
    "\n",
    "# Get feature maps from the last convolutional layer\n",
    "with torch.no_grad():\n",
    "    feature_maps = model.get_feature_maps(images)  # Shape: (10, 16, 5, 5)\n",
    "\n",
    "# Log feature maps to wandb\n",
    "for i in range(10):  \n",
    "    img_feature_maps = feature_maps[i]  # Shape: (16, 5, 5)\n",
    "\n",
    "    img_feature_maps = torch.nn.functional.interpolate(img_feature_maps.unsqueeze(0), size=(5, 5), mode=\"bilinear\", align_corners=False)\n",
    "    img_feature_maps = img_feature_maps.squeeze(0)  \n",
    "\n",
    "    # Convert feature maps into a 4x4 grid (16 channels)\n",
    "    grid = vutils.make_grid(img_feature_maps.unsqueeze(1), nrow=4, normalize=True, scale_each=True)\n",
    "\n",
    "    wandb.log({f\"Feature Maps Image {i+1}\": [wandb.Image(grid, caption=f\"Feature Maps for Image {i+1}\")]})\n",
    "\n",
    "# Finish wandb run\n",
    "wandb.finish()"
   ]
  },
  {
   "cell_type": "markdown",
   "id": "5ffedc1e",
   "metadata": {},
   "source": [
    "# Q2 a \n",
    "Experiment with ReLU"
   ]
  },
  {
   "cell_type": "code",
   "execution_count": 13,
   "id": "d460c29f",
   "metadata": {},
   "outputs": [],
   "source": [
    "# CNN Model\n",
    "class LeNetCustom3x3(nn.Module):\n",
    "    def __init__(self, num_classes, activation_fn):\n",
    "        super(LeNetCustom3x3, self).__init__()\n",
    "        self.activation_fn = activation_fn\n",
    "\n",
    "        self.features = nn.Sequential(\n",
    "            nn.Conv2d(3, 6, kernel_size=3, stride=1, padding=1),  # 3x3x3 kernels with padding -> 32x32x6\n",
    "            self.activation_fn(),\n",
    "            nn.MaxPool2d(kernel_size=2, stride=2),  # 16x16x6\n",
    "            nn.Conv2d(6, 16, kernel_size=3, stride=1, padding=1),  # 3x3x6 kernels with padding -> 16x16x16\n",
    "            self.activation_fn(),\n",
    "            nn.MaxPool2d(kernel_size=2, stride=2)  # 8x8x16\n",
    "        )\n",
    "\n",
    "        self.classifier = nn.Sequential(\n",
    "            nn.Linear(16 * 8 * 8, 120),\n",
    "            self.activation_fn(),\n",
    "            nn.Linear(120, 84),\n",
    "            self.activation_fn(),\n",
    "            nn.Linear(84, num_classes),\n",
    "        )\n",
    "\n",
    "    def forward(self, x):\n",
    "        x = self.features(x)\n",
    "        x = torch.flatten(x, 1)\n",
    "        logits = self.classifier(x)\n",
    "        return logits"
   ]
  },
  {
   "cell_type": "code",
   "execution_count": 14,
   "id": "4e913104",
   "metadata": {},
   "outputs": [
    {
     "data": {
      "text/html": [
       "Tracking run with wandb version 0.19.4"
      ],
      "text/plain": [
       "<IPython.core.display.HTML object>"
      ]
     },
     "metadata": {},
     "output_type": "display_data"
    },
    {
     "data": {
      "text/html": [
       "Run data is saved locally in <code>C:\\Users\\Saeah Go\\Desktop\\CS540 Deep Learning\\wandb\\run-20250203_062343-ukftf9ie</code>"
      ],
      "text/plain": [
       "<IPython.core.display.HTML object>"
      ]
     },
     "metadata": {},
     "output_type": "display_data"
    },
    {
     "data": {
      "text/html": [
       "Syncing run <strong><a href='https://wandb.ai/saeah-portland-state-university/cs540-programming2/runs/ukftf9ie' target=\"_blank\">Q2_a_ReLU</a></strong> to <a href='https://wandb.ai/saeah-portland-state-university/cs540-programming2' target=\"_blank\">Weights & Biases</a> (<a href='https://wandb.me/developer-guide' target=\"_blank\">docs</a>)<br>"
      ],
      "text/plain": [
       "<IPython.core.display.HTML object>"
      ]
     },
     "metadata": {},
     "output_type": "display_data"
    },
    {
     "data": {
      "text/html": [
       " View project at <a href='https://wandb.ai/saeah-portland-state-university/cs540-programming2' target=\"_blank\">https://wandb.ai/saeah-portland-state-university/cs540-programming2</a>"
      ],
      "text/plain": [
       "<IPython.core.display.HTML object>"
      ]
     },
     "metadata": {},
     "output_type": "display_data"
    },
    {
     "data": {
      "text/html": [
       " View run at <a href='https://wandb.ai/saeah-portland-state-university/cs540-programming2/runs/ukftf9ie' target=\"_blank\">https://wandb.ai/saeah-portland-state-university/cs540-programming2/runs/ukftf9ie</a>"
      ],
      "text/plain": [
       "<IPython.core.display.HTML object>"
      ]
     },
     "metadata": {},
     "output_type": "display_data"
    },
    {
     "name": "stdout",
     "output_type": "stream",
     "text": [
      "Epoch 10/40 | Train Loss: 2.3024 | Train Acc: 14.53% | Test Loss: 2.3022 | Test Acc: 14.27%\n",
      "Epoch 20/40 | Train Loss: 2.3003 | Train Acc: 12.54% | Test Loss: 2.3001 | Test Acc: 12.11%\n",
      "Epoch 30/40 | Train Loss: 2.2958 | Train Acc: 12.22% | Test Loss: 2.2952 | Test Acc: 12.18%\n",
      "Epoch 40/40 | Train Loss: 2.2803 | Train Acc: 16.46% | Test Loss: 2.2782 | Test Acc: 16.35%\n"
     ]
    },
    {
     "data": {
      "text/html": [],
      "text/plain": [
       "<IPython.core.display.HTML object>"
      ]
     },
     "metadata": {},
     "output_type": "display_data"
    },
    {
     "data": {
      "text/html": [
       "<br>    <style><br>        .wandb-row {<br>            display: flex;<br>            flex-direction: row;<br>            flex-wrap: wrap;<br>            justify-content: flex-start;<br>            width: 100%;<br>        }<br>        .wandb-col {<br>            display: flex;<br>            flex-direction: column;<br>            flex-basis: 100%;<br>            flex: 1;<br>            padding: 10px;<br>        }<br>    </style><br><div class=\"wandb-row\"><div class=\"wandb-col\"><h3>Run history:</h3><br/><table class=\"wandb\"><tr><td>epoch</td><td>▁▁▁▂▂▂▂▂▂▃▃▃▃▃▄▄▄▄▄▄▅▅▅▅▅▅▆▆▆▆▆▇▇▇▇▇▇███</td></tr><tr><td>test_accuracy</td><td>▁▁▁▂▄▅▆▆▆▆▅▅▅▅▅▄▄▄▃▃▃▃▃▃▃▃▃▃▃▃▄▄▅▆▆▇▇███</td></tr><tr><td>test_loss</td><td>█████████▇▇▇▇▇▇▇▇▇▇▇▇▇▇▇▆▆▆▆▆▆▅▅▅▄▄▄▃▃▂▁</td></tr><tr><td>train_accuracy</td><td>▁▁▁▂▃▅▅▆▅▆▅▅▅▅▅▅▅▄▄▄▄▃▃▂▃▃▃▃▃▃▄▄▅▅▆▇▇▇██</td></tr><tr><td>train_loss</td><td>████████▇▇▇▇▇▇▇▇▇▇▇▇▇▇▇▆▆▆▆▆▆▆▅▅▅▄▄▄▃▂▂▁</td></tr></table><br/></div><div class=\"wandb-col\"><h3>Run summary:</h3><br/><table class=\"wandb\"><tr><td>epoch</td><td>40</td></tr><tr><td>test_accuracy</td><td>16.35</td></tr><tr><td>test_loss</td><td>2.27818</td></tr><tr><td>train_accuracy</td><td>16.46</td></tr><tr><td>train_loss</td><td>2.28034</td></tr></table><br/></div></div>"
      ],
      "text/plain": [
       "<IPython.core.display.HTML object>"
      ]
     },
     "metadata": {},
     "output_type": "display_data"
    },
    {
     "data": {
      "text/html": [
       " View run <strong style=\"color:#cdcd00\">Q2_a_ReLU</strong> at: <a href='https://wandb.ai/saeah-portland-state-university/cs540-programming2/runs/ukftf9ie' target=\"_blank\">https://wandb.ai/saeah-portland-state-university/cs540-programming2/runs/ukftf9ie</a><br> View project at: <a href='https://wandb.ai/saeah-portland-state-university/cs540-programming2' target=\"_blank\">https://wandb.ai/saeah-portland-state-university/cs540-programming2</a><br>Synced 5 W&B file(s), 0 media file(s), 0 artifact file(s) and 0 other file(s)"
      ],
      "text/plain": [
       "<IPython.core.display.HTML object>"
      ]
     },
     "metadata": {},
     "output_type": "display_data"
    },
    {
     "data": {
      "text/html": [
       "Find logs at: <code>.\\wandb\\run-20250203_062343-ukftf9ie\\logs</code>"
      ],
      "text/plain": [
       "<IPython.core.display.HTML object>"
      ]
     },
     "metadata": {},
     "output_type": "display_data"
    }
   ],
   "source": [
    "# Hyperparameters\n",
    "batch_size = 128\n",
    "num_classes = 10\n",
    "epochs = 40  \n",
    "learning_rate = 0.001\n",
    "\n",
    "# Initialize wandb\n",
    "wandb.init(\n",
    "    project=\"cs540-programming2\",\n",
    "    name=\"Q2_a_ReLU\",\n",
    "    config={\n",
    "        \"epochs\": epochs,\n",
    "        \"batch_size\": batch_size,\n",
    "        \"learning_rate\": learning_rate,\n",
    "        \"architecture\": \"LeNetCustom3x3\",\n",
    "        \"optimizer\": \"SGD\",\n",
    "        \"activation_function\": \"ReLU\",\n",
    "    },\n",
    ")\n",
    "config = wandb.config\n",
    "\n",
    "# Model Training\n",
    "model = LeNetCustom3x3(num_classes=num_classes, activation_fn=nn.ReLU).to(device)\n",
    "optimizer = torch.optim.SGD(model.parameters(), lr=learning_rate) #, momentum=0.9)\n",
    "loss_fn = nn.CrossEntropyLoss() \n",
    "\n",
    "for epoch in range(epochs):\n",
    "    train_loss, train_accuracy = train_model(model, optimizer, loss_fn, train_loader, device)\n",
    "    test_loss, test_accuracy = evaluate_model(model, loss_fn, test_loader, device)\n",
    "\n",
    "    wandb.log({\n",
    "        \"train_loss\": train_loss,\n",
    "        \"train_accuracy\": train_accuracy, \n",
    "        \"test_loss\": test_loss,\n",
    "        \"test_accuracy\": test_accuracy,\n",
    "        \"epoch\": epoch + 1\n",
    "    })\n",
    "    \n",
    "    if (epoch + 1) % 10 == 0:\n",
    "        print(f\"Epoch {epoch+1}/{epochs} | Train Loss: {train_loss:.4f} | Train Acc: {train_accuracy:.2f}% | Test Loss: {test_loss:.4f} | Test Acc: {test_accuracy:.2f}%\", flush=True)\n",
    "\n",
    "wandb.finish()        "
   ]
  },
  {
   "cell_type": "markdown",
   "id": "46a74f54",
   "metadata": {},
   "source": [
    "# Q3 a"
   ]
  },
  {
   "cell_type": "markdown",
   "id": "c9d7c007",
   "metadata": {},
   "source": [
    "Predict 51st sin(x) wave"
   ]
  },
  {
   "cell_type": "code",
   "execution_count": 15,
   "id": "bce28f33",
   "metadata": {},
   "outputs": [],
   "source": [
    "import torch\n",
    "import torch.nn as nn\n",
    "\n",
    "class SimpleRNN(nn.Module):\n",
    "    def __init__(self, input_size, hidden_size, output_size, sine=False):\n",
    "        super(SimpleRNN, self).__init__()\n",
    "        self.rnn = nn.RNN(input_size, hidden_size, batch_first=True)\n",
    "        self.fc = nn.Linear(hidden_size, output_size)\n",
    "        self.sine = sine\n",
    "    \n",
    "    def forward(self, x):\n",
    "        h0 = torch.zeros(1, x.size(0), hidden_size).to(x.device)  # Initialize hidden state\n",
    "        out, _ = self.rnn(x, h0)  \n",
    "\n",
    "        # Use the entire sequence or just the last output, based on the sine flag\n",
    "        if self.sine:\n",
    "            # Return the full sequence for the sine wave prediction\n",
    "            return self.fc(out)\n",
    "        else:\n",
    "            # Only return the last output (for Dow Jones prediction)\n",
    "            return self.fc(out[:, -1, :])  # Predict the last time step (101st value)"
   ]
  },
  {
   "cell_type": "code",
   "execution_count": 16,
   "id": "1094a33d",
   "metadata": {},
   "outputs": [],
   "source": [
    "def to_dataloader(X, y, batch_size=32, unsqueeze_dim=None):\n",
    "    if unsqueeze_dim is not None:\n",
    "        X = X.unsqueeze(unsqueeze_dim)\n",
    "        y = y.unsqueeze(unsqueeze_dim)\n",
    "    dataset = torch.utils.data.TensorDataset(X, y)\n",
    "    return torch.utils.data.DataLoader(dataset, batch_size=batch_size, shuffle=True)"
   ]
  },
  {
   "cell_type": "code",
   "execution_count": 17,
   "id": "01f18e2b",
   "metadata": {},
   "outputs": [
    {
     "data": {
      "text/html": [
       "Tracking run with wandb version 0.19.4"
      ],
      "text/plain": [
       "<IPython.core.display.HTML object>"
      ]
     },
     "metadata": {},
     "output_type": "display_data"
    },
    {
     "data": {
      "text/html": [
       "Run data is saved locally in <code>C:\\Users\\Saeah Go\\Desktop\\CS540 Deep Learning\\wandb\\run-20250203_064023-huhcyb2q</code>"
      ],
      "text/plain": [
       "<IPython.core.display.HTML object>"
      ]
     },
     "metadata": {},
     "output_type": "display_data"
    },
    {
     "data": {
      "text/html": [
       "Syncing run <strong><a href='https://wandb.ai/saeah-portland-state-university/cs540-programming2/runs/huhcyb2q' target=\"_blank\">Q3_a</a></strong> to <a href='https://wandb.ai/saeah-portland-state-university/cs540-programming2' target=\"_blank\">Weights & Biases</a> (<a href='https://wandb.me/developer-guide' target=\"_blank\">docs</a>)<br>"
      ],
      "text/plain": [
       "<IPython.core.display.HTML object>"
      ]
     },
     "metadata": {},
     "output_type": "display_data"
    },
    {
     "data": {
      "text/html": [
       " View project at <a href='https://wandb.ai/saeah-portland-state-university/cs540-programming2' target=\"_blank\">https://wandb.ai/saeah-portland-state-university/cs540-programming2</a>"
      ],
      "text/plain": [
       "<IPython.core.display.HTML object>"
      ]
     },
     "metadata": {},
     "output_type": "display_data"
    },
    {
     "data": {
      "text/html": [
       " View run at <a href='https://wandb.ai/saeah-portland-state-university/cs540-programming2/runs/huhcyb2q' target=\"_blank\">https://wandb.ai/saeah-portland-state-university/cs540-programming2/runs/huhcyb2q</a>"
      ],
      "text/plain": [
       "<IPython.core.display.HTML object>"
      ]
     },
     "metadata": {},
     "output_type": "display_data"
    },
    {
     "name": "stdout",
     "output_type": "stream",
     "text": [
      "Epoch [10/100], Train Loss: 0.0006, Val Loss: 0.0005, Test Loss: 0.0005\n",
      "Epoch [20/100], Train Loss: 0.0001, Val Loss: 0.0001, Test Loss: 0.0001\n",
      "Epoch [30/100], Train Loss: 0.0001, Val Loss: 0.0000, Test Loss: 0.0000\n",
      "Epoch [40/100], Train Loss: 0.0000, Val Loss: 0.0000, Test Loss: 0.0000\n",
      "Epoch [50/100], Train Loss: 0.0000, Val Loss: 0.0000, Test Loss: 0.0000\n",
      "Epoch [60/100], Train Loss: 0.0000, Val Loss: 0.0000, Test Loss: 0.0000\n",
      "Epoch [70/100], Train Loss: 0.0000, Val Loss: 0.0000, Test Loss: 0.0000\n",
      "Epoch [80/100], Train Loss: 0.0000, Val Loss: 0.0000, Test Loss: 0.0000\n",
      "Epoch [90/100], Train Loss: 0.0000, Val Loss: 0.0000, Test Loss: 0.0000\n",
      "Epoch [100/100], Train Loss: 0.0000, Val Loss: 0.0000, Test Loss: 0.0000\n"
     ]
    },
    {
     "data": {
      "text/html": [],
      "text/plain": [
       "<IPython.core.display.HTML object>"
      ]
     },
     "metadata": {},
     "output_type": "display_data"
    },
    {
     "data": {
      "text/html": [
       "<br>    <style><br>        .wandb-row {<br>            display: flex;<br>            flex-direction: row;<br>            flex-wrap: wrap;<br>            justify-content: flex-start;<br>            width: 100%;<br>        }<br>        .wandb-col {<br>            display: flex;<br>            flex-direction: column;<br>            flex-basis: 100%;<br>            flex: 1;<br>            padding: 10px;<br>        }<br>    </style><br><div class=\"wandb-row\"><div class=\"wandb-col\"><h3>Run history:</h3><br/><table class=\"wandb\"><tr><td>Epoch</td><td>▁▁▁▂▂▂▂▂▃▃▃▃▃▃▃▄▄▄▅▅▅▅▅▅▅▆▆▆▆▆▇▇▇▇▇▇████</td></tr><tr><td>Test Loss</td><td>█▂▁▁▁▁▁▁▁▁▁▁▁▁▁▁▁▁▁▁▁▁▁▁▁▁▁▁▁▁▁▁▁▁▁▁▁▁▁▁</td></tr><tr><td>Train Loss</td><td>█▂▁▁▁▁▁▁▁▁▁▁▁▁▁▁▁▁▁▁▁▁▁▁▁▁▁▁▁▁▁▁▁▁▁▁▁▁▁▁</td></tr><tr><td>Validation Loss</td><td>█▅▄▃▂▁▁▁▁▁▁▁▁▁▁▁▁▁▁▁▁▁▁▁▁▁▁▁▁▁▁▁▁▁▁▁▁▁▁▁</td></tr></table><br/></div><div class=\"wandb-col\"><h3>Run summary:</h3><br/><table class=\"wandb\"><tr><td>Epoch</td><td>100</td></tr><tr><td>Test Loss</td><td>0.0</td></tr><tr><td>Train Loss</td><td>0.0</td></tr><tr><td>Validation Loss</td><td>0.0</td></tr></table><br/></div></div>"
      ],
      "text/plain": [
       "<IPython.core.display.HTML object>"
      ]
     },
     "metadata": {},
     "output_type": "display_data"
    },
    {
     "data": {
      "text/html": [
       " View run <strong style=\"color:#cdcd00\">Q3_a</strong> at: <a href='https://wandb.ai/saeah-portland-state-university/cs540-programming2/runs/huhcyb2q' target=\"_blank\">https://wandb.ai/saeah-portland-state-university/cs540-programming2/runs/huhcyb2q</a><br> View project at: <a href='https://wandb.ai/saeah-portland-state-university/cs540-programming2' target=\"_blank\">https://wandb.ai/saeah-portland-state-university/cs540-programming2</a><br>Synced 5 W&B file(s), 0 media file(s), 0 artifact file(s) and 0 other file(s)"
      ],
      "text/plain": [
       "<IPython.core.display.HTML object>"
      ]
     },
     "metadata": {},
     "output_type": "display_data"
    },
    {
     "data": {
      "text/html": [
       "Find logs at: <code>.\\wandb\\run-20250203_064023-huhcyb2q\\logs</code>"
      ],
      "text/plain": [
       "<IPython.core.display.HTML object>"
      ]
     },
     "metadata": {},
     "output_type": "display_data"
    }
   ],
   "source": [
    "# Initialize Weights & Biases\n",
    "wandb.init(project=\"cs540-programming2\",\n",
    "          name=\"Q3_a\")\n",
    "\n",
    "# Generate sine wave data\n",
    "def generate_data(seq_length, num_samples):\n",
    "    X = []\n",
    "    y = []\n",
    "    for i in range(num_samples):\n",
    "        x = np.linspace(i * 2 * np.pi, (i + 1) * 2 * np.pi, seq_length + 1)\n",
    "        sine_wave = np.sin(x)\n",
    "        X.append(sine_wave[:-1])  # input sequence\n",
    "        y.append(sine_wave[1:])   # target sequence\n",
    "    return np.array(X), np.array(y)\n",
    "\n",
    "# Generate dataset\n",
    "seq_length = 50\n",
    "num_samples = 1000\n",
    "X, y = generate_data(seq_length, num_samples)\n",
    "\n",
    "# Convert to PyTorch tensors\n",
    "X = torch.tensor(X, dtype=torch.float32)\n",
    "y = torch.tensor(y, dtype=torch.float32)\n",
    "\n",
    "# Split into training, validation, and test datasets\n",
    "X_train, X_temp, y_train, y_temp = train_test_split(X, y, test_size=0.2, random_state=42)\n",
    "X_val, X_test, y_val, y_test = train_test_split(X_temp, y_temp, test_size=0.5, random_state=42)\n",
    "\n",
    "train_loader = to_dataloader(X_train, y_train, unsqueeze_dim=2)\n",
    "val_loader = to_dataloader(X_val, y_val, unsqueeze_dim=2)\n",
    "test_loader = to_dataloader(X_test, y_test, batch_size=1, unsqueeze_dim=2)  # Batch size 1 for test\n",
    "\n",
    "# Model parameters\n",
    "input_size = 1\n",
    "hidden_size = 20\n",
    "output_size = 1\n",
    "learning_rate = 0.001\n",
    "epochs = 100\n",
    "\n",
    "model = SimpleRNN(input_size, hidden_size, output_size,sine=True)\n",
    "criterion = nn.MSELoss()\n",
    "optimizer = optim.Adam(model.parameters(), lr=learning_rate)\n",
    "\n",
    "# Log model parameters\n",
    "wandb.config.update({\n",
    "    \"input_size\": input_size,\n",
    "    \"hidden_size\": hidden_size,\n",
    "    \"output_size\": output_size,\n",
    "    \"learning_rate\": learning_rate,\n",
    "    \"epochs\": epochs,\n",
    "})\n",
    "\n",
    "# Training loop\n",
    "for epoch in range(epochs):\n",
    "    model.train()\n",
    "    train_loss = 0\n",
    "    for batch_X, batch_y in train_loader:\n",
    "        outputs = model(batch_X)\n",
    "        loss = criterion(outputs, batch_y)\n",
    "        optimizer.zero_grad()\n",
    "        loss.backward()\n",
    "        optimizer.step()\n",
    "        train_loss += loss.item()\n",
    "    train_loss /= len(train_loader)\n",
    "\n",
    "    # Validation\n",
    "    model.eval()\n",
    "    val_loss = 0\n",
    "    with torch.no_grad():\n",
    "        for batch_X, batch_y in val_loader:\n",
    "            outputs = model(batch_X)\n",
    "            loss = criterion(outputs, batch_y)\n",
    "            val_loss += loss.item()\n",
    "    val_loss /= len(val_loader)\n",
    "\n",
    "    # Test loss (without updating model)\n",
    "    test_loss = 0\n",
    "    with torch.no_grad():\n",
    "        for batch_X, batch_y in test_loader:\n",
    "            outputs = model(batch_X)\n",
    "            loss = criterion(outputs, batch_y)\n",
    "            test_loss += loss.item()\n",
    "    test_loss /= len(test_loader)  # Compute average test loss for this epoch\n",
    "\n",
    "    # Log train, validation, and test loss per epoch\n",
    "    wandb.log({\n",
    "        \"Train Loss\": train_loss,\n",
    "        \"Validation Loss\": val_loss,\n",
    "        \"Test Loss\": test_loss,  # Now tracking test loss per epoch\n",
    "        \"Epoch\": epoch + 1\n",
    "    })\n",
    "\n",
    "    if (epoch + 1) % 10 == 0:\n",
    "        print(f\"Epoch [{epoch+1}/{epochs}], Train Loss: {train_loss:.4f}, Val Loss: {val_loss:.4f}, Test Loss: {test_loss:.4f}\", flush=True)\n",
    "\n",
    "# Finish wandb run\n",
    "wandb.finish()"
   ]
  },
  {
   "cell_type": "markdown",
   "id": "0aaf322a",
   "metadata": {},
   "source": [
    "# Q3 b\n",
    "Download dow jones without string values and predict 101st values after seeing 100 values"
   ]
  },
  {
   "cell_type": "code",
   "execution_count": 18,
   "id": "d1fab7b9",
   "metadata": {},
   "outputs": [
    {
     "data": {
      "text/html": [
       "Tracking run with wandb version 0.19.4"
      ],
      "text/plain": [
       "<IPython.core.display.HTML object>"
      ]
     },
     "metadata": {},
     "output_type": "display_data"
    },
    {
     "data": {
      "text/html": [
       "Run data is saved locally in <code>C:\\Users\\Saeah Go\\Desktop\\CS540 Deep Learning\\wandb\\run-20250203_064125-7x28ukwb</code>"
      ],
      "text/plain": [
       "<IPython.core.display.HTML object>"
      ]
     },
     "metadata": {},
     "output_type": "display_data"
    },
    {
     "data": {
      "text/html": [
       "Syncing run <strong><a href='https://wandb.ai/saeah-portland-state-university/cs540-programming2/runs/7x28ukwb' target=\"_blank\">Q3_b</a></strong> to <a href='https://wandb.ai/saeah-portland-state-university/cs540-programming2' target=\"_blank\">Weights & Biases</a> (<a href='https://wandb.me/developer-guide' target=\"_blank\">docs</a>)<br>"
      ],
      "text/plain": [
       "<IPython.core.display.HTML object>"
      ]
     },
     "metadata": {},
     "output_type": "display_data"
    },
    {
     "data": {
      "text/html": [
       " View project at <a href='https://wandb.ai/saeah-portland-state-university/cs540-programming2' target=\"_blank\">https://wandb.ai/saeah-portland-state-university/cs540-programming2</a>"
      ],
      "text/plain": [
       "<IPython.core.display.HTML object>"
      ]
     },
     "metadata": {},
     "output_type": "display_data"
    },
    {
     "data": {
      "text/html": [
       " View run at <a href='https://wandb.ai/saeah-portland-state-university/cs540-programming2/runs/7x28ukwb' target=\"_blank\">https://wandb.ai/saeah-portland-state-university/cs540-programming2/runs/7x28ukwb</a>"
      ],
      "text/plain": [
       "<IPython.core.display.HTML object>"
      ]
     },
     "metadata": {},
     "output_type": "display_data"
    },
    {
     "name": "stdout",
     "output_type": "stream",
     "text": [
      "Epoch [10/100], Train Loss: 0.0002, Val Loss: 0.0001, Test Loss: 0.0001\n",
      "Epoch [20/100], Train Loss: 0.0001, Val Loss: 0.0001, Test Loss: 0.0001\n",
      "Epoch [30/100], Train Loss: 0.0001, Val Loss: 0.0002, Test Loss: 0.0002\n",
      "Epoch [40/100], Train Loss: 0.0001, Val Loss: 0.0001, Test Loss: 0.0001\n",
      "Epoch [50/100], Train Loss: 0.0001, Val Loss: 0.0001, Test Loss: 0.0001\n",
      "Epoch [60/100], Train Loss: 0.0001, Val Loss: 0.0001, Test Loss: 0.0001\n",
      "Epoch [70/100], Train Loss: 0.0001, Val Loss: 0.0001, Test Loss: 0.0001\n",
      "Epoch [80/100], Train Loss: 0.0001, Val Loss: 0.0001, Test Loss: 0.0001\n",
      "Epoch [90/100], Train Loss: 0.0001, Val Loss: 0.0001, Test Loss: 0.0001\n",
      "Epoch [100/100], Train Loss: 0.0001, Val Loss: 0.0001, Test Loss: 0.0001\n"
     ]
    },
    {
     "data": {
      "text/html": [],
      "text/plain": [
       "<IPython.core.display.HTML object>"
      ]
     },
     "metadata": {},
     "output_type": "display_data"
    },
    {
     "data": {
      "text/html": [
       "<br>    <style><br>        .wandb-row {<br>            display: flex;<br>            flex-direction: row;<br>            flex-wrap: wrap;<br>            justify-content: flex-start;<br>            width: 100%;<br>        }<br>        .wandb-col {<br>            display: flex;<br>            flex-direction: column;<br>            flex-basis: 100%;<br>            flex: 1;<br>            padding: 10px;<br>        }<br>    </style><br><div class=\"wandb-row\"><div class=\"wandb-col\"><h3>Run history:</h3><br/><table class=\"wandb\"><tr><td>Epoch</td><td>▁▁▁▂▂▂▂▂▃▃▃▃▄▄▄▄▄▄▄▄▅▅▅▅▆▆▆▆▆▆▆▇▇▇▇█████</td></tr><tr><td>Test Loss</td><td>▅▅▄▇▄▃▃▄▆▆█▅▃▃▂▇▃▃▃▃▂▃▂▃▃▂▃▃▂▂▄▂▁▂▂▁▁▁▁▂</td></tr><tr><td>Train Loss</td><td>█▁▁▁▁▁▁▁▁▁▁▁▁▁▁▁▁▁▁▁▁▁▁▁▁▁▁▁▁▁▁▁▁▁▁▁▁▁▁▁</td></tr><tr><td>Validation Loss</td><td>▇▆▄▆▃▃▃▃▃█▂▂▂▂▆▂▂▂▂▂▁▂▄▂▂▂▂▃▁▁▂▁▁▂▂▁▂▁▁▁</td></tr></table><br/></div><div class=\"wandb-col\"><h3>Run summary:</h3><br/><table class=\"wandb\"><tr><td>Epoch</td><td>100</td></tr><tr><td>Test Loss</td><td>7e-05</td></tr><tr><td>Train Loss</td><td>7e-05</td></tr><tr><td>Validation Loss</td><td>7e-05</td></tr></table><br/></div></div>"
      ],
      "text/plain": [
       "<IPython.core.display.HTML object>"
      ]
     },
     "metadata": {},
     "output_type": "display_data"
    },
    {
     "data": {
      "text/html": [
       " View run <strong style=\"color:#cdcd00\">Q3_b</strong> at: <a href='https://wandb.ai/saeah-portland-state-university/cs540-programming2/runs/7x28ukwb' target=\"_blank\">https://wandb.ai/saeah-portland-state-university/cs540-programming2/runs/7x28ukwb</a><br> View project at: <a href='https://wandb.ai/saeah-portland-state-university/cs540-programming2' target=\"_blank\">https://wandb.ai/saeah-portland-state-university/cs540-programming2</a><br>Synced 5 W&B file(s), 1 media file(s), 2 artifact file(s) and 0 other file(s)"
      ],
      "text/plain": [
       "<IPython.core.display.HTML object>"
      ]
     },
     "metadata": {},
     "output_type": "display_data"
    },
    {
     "data": {
      "text/html": [
       "Find logs at: <code>.\\wandb\\run-20250203_064125-7x28ukwb\\logs</code>"
      ],
      "text/plain": [
       "<IPython.core.display.HTML object>"
      ]
     },
     "metadata": {},
     "output_type": "display_data"
    }
   ],
   "source": [
    "# Initialize Weights & Biases\n",
    "wandb.init(project=\"cs540-programming2\",\n",
    "          name=\"Q3_b\")\n",
    "\n",
    "# Download Dow Jones data\n",
    "def download_dow_jones_data():\n",
    "    # Download historical data for Dow Jones Industrial Average (^DJI)\n",
    "    data = yf.download(\"^DJI\", start=\"2010-01-01\", end=\"2023-01-01\")\n",
    "    data.to_csv(\"dow_jones.csv\") # Save to CSV\n",
    "    return data\n",
    "\n",
    "# Load or download data\n",
    "try:\n",
    "    data = pd.read_csv(\"dow_jones.csv\")\n",
    "except FileNotFoundError:\n",
    "    data = download_dow_jones_data()\n",
    "\n",
    "# Drop rows with non-numerical values in the High column\n",
    "data = data[pd.to_numeric(data[\"High\"], errors=\"coerce\").notnull()]\n",
    "\n",
    "# Use the High column\n",
    "high_prices = data[\"High\"].values.reshape(-1, 1)\n",
    "\n",
    "def create_sequences(data, seq_length):\n",
    "    X = []\n",
    "    y = []\n",
    "    for i in range(len(data) - seq_length):\n",
    "        X.append(data[i:i+seq_length])\n",
    "        y.append(data[i+seq_length])\n",
    "    return np.array(X), np.array(y)\n",
    "\n",
    "# Normalize the data\n",
    "scaler = MinMaxScaler(feature_range=(0, 1))\n",
    "high_prices_scaled = scaler.fit_transform(high_prices)\n",
    "\n",
    "# Create sequences\n",
    "seq_length = 100\n",
    "X, y = create_sequences(high_prices_scaled, seq_length)\n",
    "\n",
    "# Split into training, validation, and test sets\n",
    "X_train, X_temp, y_train, y_temp = train_test_split(X, y, test_size=0.2, random_state=42)\n",
    "X_val, X_test, y_val, y_test = train_test_split(X_temp, y_temp, test_size=0.5, random_state=42)\n",
    "\n",
    "# Convert to PyTorch tensors\n",
    "X_train = torch.tensor(X_train, dtype=torch.float32)\n",
    "y_train = torch.tensor(y_train, dtype=torch.float32)\n",
    "X_val = torch.tensor(X_val, dtype=torch.float32)\n",
    "y_val = torch.tensor(y_val, dtype=torch.float32)\n",
    "X_test = torch.tensor(X_test, dtype=torch.float32)\n",
    "y_test = torch.tensor(y_test, dtype=torch.float32)\n",
    "\n",
    "train_loader = to_dataloader(X_train, y_train)\n",
    "val_loader = to_dataloader(X_val, y_val)\n",
    "test_loader = to_dataloader(X_test, y_test, batch_size=1) # Batch size 1 for test\n",
    "\n",
    "# Model parameters\n",
    "input_size = 1\n",
    "hidden_size = 50\n",
    "output_size = 1\n",
    "learning_rate = 0.001\n",
    "epochs = 100\n",
    "\n",
    "model = SimpleRNN(input_size, hidden_size, output_size, sine=False)\n",
    "criterion = nn.MSELoss()\n",
    "optimizer = optim.Adam(model.parameters(), lr=learning_rate)\n",
    "\n",
    "wandb.config.update({\n",
    "    \"input_size\": input_size,\n",
    "    \"hidden_size\": hidden_size,\n",
    "    \"output_size\": output_size,\n",
    "    \"learning_rate\": learning_rate,\n",
    "    \"epochs\": epochs,\n",
    "})\n",
    "\n",
    "# Training loop\n",
    "for epoch in range(epochs):\n",
    "    model.train()\n",
    "    train_loss = 0\n",
    "    for batch_X, batch_y in train_loader:\n",
    "        outputs = model(batch_X)\n",
    "        loss = criterion(outputs, batch_y)\n",
    "        optimizer.zero_grad()\n",
    "        loss.backward()\n",
    "        optimizer.step()\n",
    "        train_loss += loss.item()\n",
    "    train_loss /= len(train_loader)\n",
    "\n",
    "    # Validation\n",
    "    model.eval()\n",
    "    val_loss = 0\n",
    "    with torch.no_grad():\n",
    "        for batch_X, batch_y in val_loader:\n",
    "            outputs = model(batch_X)\n",
    "            loss = criterion(outputs, batch_y)\n",
    "            val_loss += loss.item()\n",
    "    val_loss /= len(val_loader)\n",
    "    \n",
    "    # Test loss (without updating model)\n",
    "    test_loss = 0\n",
    "    with torch.no_grad():\n",
    "        for batch_X, batch_y in test_loader:\n",
    "            outputs = model(batch_X)\n",
    "            loss = criterion(outputs, batch_y)\n",
    "            test_loss += loss.item()\n",
    "    test_loss /= len(test_loader)  # Compute average test loss for this epoch\n",
    "   \n",
    "    # Log train, validation, and test loss per epoch\n",
    "    wandb.log({\n",
    "        \"Train Loss\": train_loss,\n",
    "        \"Validation Loss\": val_loss,\n",
    "        \"Test Loss\": test_loss,  # Now tracking test loss per epoch\n",
    "        \"Epoch\": epoch + 1\n",
    "    })\n",
    "\n",
    "    if (epoch + 1) % 10 == 0:\n",
    "        print(f\"Epoch [{epoch+1}/{epochs}], Train Loss: {train_loss:.4f}, Val Loss: {val_loss:.4f}, Test Loss: {test_loss:.4f}\", flush=True)\n",
    "\n",
    "# Inverse transform the predictions and targets\n",
    "test_predictions = scaler.inverse_transform(np.array(test_predictions).reshape(-1, 1))\n",
    "test_targets = scaler.inverse_transform(np.array(test_targets).reshape(-1, 1))\n",
    "\n",
    "# Log predictions and targets to wandb as a table\n",
    "table = wandb.Table(columns=[\"Sample\", \"True High Price\", \"Predicted High Price\"])\n",
    "for i in range(len(test_targets)):\n",
    "    table.add_data(i, test_targets[i][0], test_predictions[i][0])\n",
    "\n",
    "wandb.log({\"Test Predictions vs. True Values\": table})\n",
    "\n",
    "# Finish the wandb \n",
    "wandb.finish()"
   ]
  }
 ],
 "metadata": {
  "kernelspec": {
   "display_name": "Python (Anaconda3)",
   "language": "python",
   "name": "anaconda3"
  },
  "language_info": {
   "codemirror_mode": {
    "name": "ipython",
    "version": 3
   },
   "file_extension": ".py",
   "mimetype": "text/x-python",
   "name": "python",
   "nbconvert_exporter": "python",
   "pygments_lexer": "ipython3",
   "version": "3.12.8"
  }
 },
 "nbformat": 4,
 "nbformat_minor": 5
}
